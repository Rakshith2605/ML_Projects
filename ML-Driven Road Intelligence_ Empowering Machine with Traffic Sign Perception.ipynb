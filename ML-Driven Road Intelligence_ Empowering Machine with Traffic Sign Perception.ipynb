{
 "cells": [
  {
   "cell_type": "markdown",
   "metadata": {},
   "source": [
    "  "
   ]
  },
  {
   "cell_type": "markdown",
   "metadata": {},
   "source": [
    "# ML-Driven Road Intelligence: Empowering Machine with Traffic Sign Perception"
   ]
  },
  {
   "cell_type": "markdown",
   "metadata": {},
   "source": [
    "  "
   ]
  },
  {
   "cell_type": "markdown",
   "metadata": {},
   "source": [
    "\n",
    "# Loading Libraries\n",
    "The model-building process involves essential libraries like NumPy, Pandas, TensorFlow for machine learning tasks. PIL aids image handling, while OS manages files. Seaborn and Matplotlib assist in visualizing data. Keras facilitates neural network creation with Sequential, Conv2D, MaxPool2D, Dense, Flatten, and Dropout layers, crucial for model architecture."
   ]
  },
  {
   "cell_type": "code",
   "execution_count": 1,
   "metadata": {},
   "outputs": [
    {
     "name": "stdout",
     "output_type": "stream",
     "text": [
      "WARNING:tensorflow:From C:\\Users\\Raksh\\anaconda3\\Lib\\site-packages\\keras\\src\\losses.py:2976: The name tf.losses.sparse_softmax_cross_entropy is deprecated. Please use tf.compat.v1.losses.sparse_softmax_cross_entropy instead.\n",
      "\n"
     ]
    }
   ],
   "source": [
    "# Importing the Libraries, which are the basic requirement for our MODEL_BUILDING_PROCESS\n",
    "import numpy as np \n",
    "import pandas as pd \n",
    "import tensorflow as tf\n",
    "import pickle\n",
    "from PIL import Image\n",
    "import os\n",
    "import seaborn as sb\n",
    "import matplotlib.pyplot as plt\n",
    "%matplotlib inline\n",
    "from keras.models import Sequential, load_model\n",
    "from keras.layers import Conv2D, MaxPool2D, Dense, Flatten, Dropout\n",
    "\n",
    "\n",
    "    "
   ]
  },
  {
   "cell_type": "markdown",
   "metadata": {},
   "source": [
    "   "
   ]
  },
  {
   "cell_type": "markdown",
   "metadata": {},
   "source": [
    "  "
   ]
  },
  {
   "cell_type": "markdown",
   "metadata": {},
   "source": [
    "# Construction Sign Recognition Dataset with PIL and NumPy\n",
    "\n",
    "This cell is crucial for assembling a dataset to train a machine learning model geared for traffic sign recognition. Operating within a loop encompassing 43 classes of traffic signs, it systematically navigates through each class, accessing images stored in respective directories. Utilizing the `os` and `PIL` libraries, it loads these images, ensuring uniform dimensions by resizing them to 32x32 pixels.The images are then converted into NumPy arrays, a requisite format for machine learning models, and normalized to a scale between 0 and 1 to streamline computations. These processed images, stored as NumPy arrays, are appended into the 'Data' list, forming the fundamental dataset for training.\n",
    "\n",
    "Simultaneously, the associated class labels are assigned to the 'Labels' list, correlating each image with its corresponding traffic sign class. Any exceptions encountered during this process are captured and printed. In essence, this code snippet orchestrates the construction of a comprehensive dataset by compiling images as numerical data ('Data') and their respective class labels ('Labels'), laying the foundation for subsequent machine learning model training and traffic sign recognition.\n",
    "\n",
    "This code is like a factory gathering pictures of traffic signs to teach a computer how to recognize them. It looks at 43 types of signs, finds their pictures stored in different folders, and adjusts each picture to be the same size. Then it changes these pictures into a language the computer can understand, putting them in a big list called 'Data'. At the same time, it makes another list called 'Labels' that says what kind of sign each picture is. If there's a problem with a picture, it tells us so we can fix it. Overall, it's creating a big set of pictures and labels to teach the computer about traffic signs."
   ]
  },
  {
   "cell_type": "code",
   "execution_count": 3,
   "metadata": {},
   "outputs": [
    {
     "name": "stdout",
     "output_type": "stream",
     "text": [
      "cannot identify image file 'F:\\\\Projects\\\\Traffic_Sign_Recognition\\\\Train\\\\42\\\\Data.pkl'\n",
      "cannot identify image file 'F:\\\\Projects\\\\Traffic_Sign_Recognition\\\\Train\\\\42\\\\label.pkl'\n"
     ]
    }
   ],
   "source": [
    "# rak\n",
    "\n",
    "import os\n",
    "from PIL import Image\n",
    "import numpy as np\n",
    "\n",
    "number_of_classes = 43\n",
    "\n",
    "Data = []\n",
    "Labels = [] \n",
    "\n",
    "\n",
    "for i in range(number_of_classes):\n",
    "    current_working_directory = \"F:\\\\Projects\\\\Traffic_Sign_Recognition\"\n",
    "    path = os.path.join(current_working_directory, 'Train', str(i))\n",
    "    images = os.listdir(path)\n",
    "    for j in images:\n",
    "        try:\n",
    "            image = Image.open(os.path.join(path, j))  # Using os.path.join for path concatenation\n",
    "            image = image.resize((32, 32))\n",
    "            image = np.array(image)\n",
    "            image = image / 255.0\n",
    "            Data.append(image)\n",
    "            Labels.append(i)\n",
    "        except Exception as e:\n",
    "            print(e)\n"
   ]
  },
  {
   "cell_type": "markdown",
   "metadata": {},
   "source": [
    "# Upload \n",
    "\n",
    "Storing the 'Data.pkl' and 'label.pkl' files locally allows future access to the meticulously curated traffic sign dataset. By using `pickle` in Python, the `Data` containing processed image data and `Labels` holding corresponding class information are serialized and saved. This facilitates swift reloading of the dataset for model training or evaluation, offering convenience and efficiency in reusing this structured data, crucial for seamless experimentation and model development."
   ]
  },
  {
   "cell_type": "code",
   "execution_count": null,
   "metadata": {},
   "outputs": [],
   "source": [
    "# Optional\n",
    "\n",
    "data_path = os.path.join(path,'Data.pkl')\n",
    "with open(data_path, 'wb') as file:\n",
    "    pickle.dump(Data, file)\n",
    "    \n",
    "label_path = os.path.join(path,'label.pkl')\n",
    "with open(label_path, 'wb') as file:\n",
    "    pickle.dump(Labels, file)"
   ]
  },
  {
   "cell_type": "markdown",
   "metadata": {},
   "source": [
    "# Download"
   ]
  },
  {
   "cell_type": "code",
   "execution_count": null,
   "metadata": {},
   "outputs": [],
   "source": [
    "# Optional\n",
    "Data_file_path = os.path.join(path,'Data.pkl')\n",
    "with open(Data_file_path, 'rb') as file:\n",
    "    Data = pickle.load(file)\n",
    "    \n",
    "\n",
    "label_file_path = os.path.join(path,'label.pkl')\n",
    "with open(label_file_path, 'rb') as file:\n",
    "    Labels = pickle.load(file)"
   ]
  },
  {
   "cell_type": "code",
   "execution_count": 4,
   "metadata": {},
   "outputs": [
    {
     "data": {
      "text/plain": [
       "(list, list)"
      ]
     },
     "execution_count": 4,
     "metadata": {},
     "output_type": "execute_result"
    }
   ],
   "source": [
    "type(Data) , type(Labels)"
   ]
  },
  {
   "cell_type": "code",
   "execution_count": 5,
   "metadata": {
    "scrolled": true
   },
   "outputs": [
    {
     "data": {
      "text/plain": [
       "array([[[0.29411765, 0.30588235, 0.31372549],\n",
       "        [0.28627451, 0.29803922, 0.30588235],\n",
       "        [0.32156863, 0.32941176, 0.3254902 ],\n",
       "        ...,\n",
       "        [0.2627451 , 0.29019608, 0.28627451],\n",
       "        [0.25490196, 0.26666667, 0.2627451 ],\n",
       "        [0.25882353, 0.2627451 , 0.25882353]],\n",
       "\n",
       "       [[0.3254902 , 0.32941176, 0.3372549 ],\n",
       "        [0.30980392, 0.31372549, 0.32156863],\n",
       "        [0.33333333, 0.3372549 , 0.3254902 ],\n",
       "        ...,\n",
       "        [0.28627451, 0.30196078, 0.30196078],\n",
       "        [0.29803922, 0.30588235, 0.29411765],\n",
       "        [0.30980392, 0.30980392, 0.30196078]],\n",
       "\n",
       "       [[0.30980392, 0.30980392, 0.31764706],\n",
       "        [0.32941176, 0.32941176, 0.33333333],\n",
       "        [0.3372549 , 0.34117647, 0.34117647],\n",
       "        ...,\n",
       "        [0.27843137, 0.29019608, 0.28235294],\n",
       "        [0.29411765, 0.29019608, 0.2745098 ],\n",
       "        [0.30980392, 0.30588235, 0.29411765]],\n",
       "\n",
       "       ...,\n",
       "\n",
       "       [[0.50196078, 0.50980392, 0.53333333],\n",
       "        [0.47058824, 0.49019608, 0.51372549],\n",
       "        [0.42745098, 0.46666667, 0.48627451],\n",
       "        ...,\n",
       "        [0.38039216, 0.38039216, 0.36078431],\n",
       "        [0.38823529, 0.4       , 0.36862745],\n",
       "        [0.38823529, 0.40784314, 0.39215686]],\n",
       "\n",
       "       [[0.34901961, 0.36470588, 0.38039216],\n",
       "        [0.35686275, 0.38039216, 0.4       ],\n",
       "        [0.29803922, 0.3372549 , 0.35686275],\n",
       "        ...,\n",
       "        [0.41176471, 0.40784314, 0.38039216],\n",
       "        [0.42745098, 0.44313725, 0.40784314],\n",
       "        [0.37647059, 0.40784314, 0.38039216]],\n",
       "\n",
       "       [[0.33333333, 0.32941176, 0.34117647],\n",
       "        [0.37647059, 0.39607843, 0.41568627],\n",
       "        [0.2627451 , 0.31372549, 0.33333333],\n",
       "        ...,\n",
       "        [0.40392157, 0.40784314, 0.37254902],\n",
       "        [0.38431373, 0.39607843, 0.35294118],\n",
       "        [0.35294118, 0.38039216, 0.34901961]]])"
      ]
     },
     "execution_count": 5,
     "metadata": {},
     "output_type": "execute_result"
    }
   ],
   "source": [
    "Data[0]"
   ]
  },
  {
   "cell_type": "markdown",
   "metadata": {},
   "source": [
    "\n",
    "# Array Conversion\n",
    "Converting 'Data' and 'Labels' to NumPy arrays optimizes memory, enhances computational efficiency, and ensures consistent, array-based data structures, essential for streamlined machine learning workflows and compatibility across diverse libraries.\n",
    "\n",
    "Basically Think of converting 'Data' and 'Labels' to NumPy arrays like organizing things neatly in labeled boxes for easy access. Instead of having loose items scattered around, putting them in labeled boxes makes it easier to find what you need quickly. Similarly, turning 'Data' (which holds the pictures) and 'Labels' (which tells what each picture is) into NumPy arrays helps organize and streamline them, making it faster and simpler for the computer to work with them when learning about traffic signs."
   ]
  },
  {
   "cell_type": "code",
   "execution_count": 6,
   "metadata": {},
   "outputs": [],
   "source": [
    "\n",
    "Data = np.array(Data)\n",
    "\n",
    "Labels = np.array(Labels)"
   ]
  },
  {
   "cell_type": "markdown",
   "metadata": {},
   "source": [
    "**********************************"
   ]
  },
  {
   "cell_type": "markdown",
   "metadata": {},
   "source": [
    "# NumPy File Storage\n",
    "\n",
    "Storing 'Data' and 'Labels' as NumPy files is like packing your important stuff in labeled boxes and putting them in a safe place. This way, if you need them later, you can easily retrieve them without having to organize everything again. Similarly, by saving the processed pictures ('Data') and their labels ('Labels') as NumPy files, we keep them safe and organized. So, when we want to teach the computer more about traffic signs later, we can quickly bring back these organized pictures and labels, saving us time from redoing all the preparation work."
   ]
  },
  {
   "cell_type": "code",
   "execution_count": 7,
   "metadata": {},
   "outputs": [],
   "source": [
    "os.chdir(\"F:\\\\Projects\\\\Traffic_Sign_Recognition\\\\Preprocessed_Data_&_Labels_&_SAVED_MODEL\")\n",
    "\n",
    "np.save(\"Data\" , Data)\n",
    "np.save(\"Labels\" , Labels)\n",
    "Data = np.load('Data.npy')\n",
    "Labels = np.load('Labels.npy')"
   ]
  },
  {
   "cell_type": "markdown",
   "metadata": {},
   "source": [
    "*******************************************"
   ]
  },
  {
   "cell_type": "markdown",
   "metadata": {},
   "source": [
    "# Exceptional or to Check"
   ]
  },
  {
   "cell_type": "code",
   "execution_count": 8,
   "metadata": {},
   "outputs": [
    {
     "data": {
      "text/plain": [
       "array([[[0.29411765, 0.30588235, 0.31372549],\n",
       "        [0.28627451, 0.29803922, 0.30588235],\n",
       "        [0.32156863, 0.32941176, 0.3254902 ],\n",
       "        ...,\n",
       "        [0.2627451 , 0.29019608, 0.28627451],\n",
       "        [0.25490196, 0.26666667, 0.2627451 ],\n",
       "        [0.25882353, 0.2627451 , 0.25882353]],\n",
       "\n",
       "       [[0.3254902 , 0.32941176, 0.3372549 ],\n",
       "        [0.30980392, 0.31372549, 0.32156863],\n",
       "        [0.33333333, 0.3372549 , 0.3254902 ],\n",
       "        ...,\n",
       "        [0.28627451, 0.30196078, 0.30196078],\n",
       "        [0.29803922, 0.30588235, 0.29411765],\n",
       "        [0.30980392, 0.30980392, 0.30196078]],\n",
       "\n",
       "       [[0.30980392, 0.30980392, 0.31764706],\n",
       "        [0.32941176, 0.32941176, 0.33333333],\n",
       "        [0.3372549 , 0.34117647, 0.34117647],\n",
       "        ...,\n",
       "        [0.27843137, 0.29019608, 0.28235294],\n",
       "        [0.29411765, 0.29019608, 0.2745098 ],\n",
       "        [0.30980392, 0.30588235, 0.29411765]],\n",
       "\n",
       "       ...,\n",
       "\n",
       "       [[0.50196078, 0.50980392, 0.53333333],\n",
       "        [0.47058824, 0.49019608, 0.51372549],\n",
       "        [0.42745098, 0.46666667, 0.48627451],\n",
       "        ...,\n",
       "        [0.38039216, 0.38039216, 0.36078431],\n",
       "        [0.38823529, 0.4       , 0.36862745],\n",
       "        [0.38823529, 0.40784314, 0.39215686]],\n",
       "\n",
       "       [[0.34901961, 0.36470588, 0.38039216],\n",
       "        [0.35686275, 0.38039216, 0.4       ],\n",
       "        [0.29803922, 0.3372549 , 0.35686275],\n",
       "        ...,\n",
       "        [0.41176471, 0.40784314, 0.38039216],\n",
       "        [0.42745098, 0.44313725, 0.40784314],\n",
       "        [0.37647059, 0.40784314, 0.38039216]],\n",
       "\n",
       "       [[0.33333333, 0.32941176, 0.34117647],\n",
       "        [0.37647059, 0.39607843, 0.41568627],\n",
       "        [0.2627451 , 0.31372549, 0.33333333],\n",
       "        ...,\n",
       "        [0.40392157, 0.40784314, 0.37254902],\n",
       "        [0.38431373, 0.39607843, 0.35294118],\n",
       "        [0.35294118, 0.38039216, 0.34901961]]])"
      ]
     },
     "execution_count": 8,
     "metadata": {},
     "output_type": "execute_result"
    }
   ],
   "source": [
    "Data[0]\n"
   ]
  },
  {
   "cell_type": "code",
   "execution_count": 9,
   "metadata": {},
   "outputs": [
    {
     "data": {
      "text/plain": [
       "0"
      ]
     },
     "execution_count": 9,
     "metadata": {},
     "output_type": "execute_result"
    }
   ],
   "source": [
    "Labels[0]"
   ]
  },
  {
   "cell_type": "code",
   "execution_count": 10,
   "metadata": {},
   "outputs": [
    {
     "data": {
      "text/plain": [
       "array([[[0.29411765, 0.30588235, 0.31372549],\n",
       "        [0.28627451, 0.29803922, 0.30588235],\n",
       "        [0.32156863, 0.32941176, 0.3254902 ],\n",
       "        ...,\n",
       "        [0.2627451 , 0.29019608, 0.28627451],\n",
       "        [0.25490196, 0.26666667, 0.2627451 ],\n",
       "        [0.25882353, 0.2627451 , 0.25882353]],\n",
       "\n",
       "       [[0.3254902 , 0.32941176, 0.3372549 ],\n",
       "        [0.30980392, 0.31372549, 0.32156863],\n",
       "        [0.33333333, 0.3372549 , 0.3254902 ],\n",
       "        ...,\n",
       "        [0.28627451, 0.30196078, 0.30196078],\n",
       "        [0.29803922, 0.30588235, 0.29411765],\n",
       "        [0.30980392, 0.30980392, 0.30196078]],\n",
       "\n",
       "       [[0.30980392, 0.30980392, 0.31764706],\n",
       "        [0.32941176, 0.32941176, 0.33333333],\n",
       "        [0.3372549 , 0.34117647, 0.34117647],\n",
       "        ...,\n",
       "        [0.27843137, 0.29019608, 0.28235294],\n",
       "        [0.29411765, 0.29019608, 0.2745098 ],\n",
       "        [0.30980392, 0.30588235, 0.29411765]],\n",
       "\n",
       "       ...,\n",
       "\n",
       "       [[0.50196078, 0.50980392, 0.53333333],\n",
       "        [0.47058824, 0.49019608, 0.51372549],\n",
       "        [0.42745098, 0.46666667, 0.48627451],\n",
       "        ...,\n",
       "        [0.38039216, 0.38039216, 0.36078431],\n",
       "        [0.38823529, 0.4       , 0.36862745],\n",
       "        [0.38823529, 0.40784314, 0.39215686]],\n",
       "\n",
       "       [[0.34901961, 0.36470588, 0.38039216],\n",
       "        [0.35686275, 0.38039216, 0.4       ],\n",
       "        [0.29803922, 0.3372549 , 0.35686275],\n",
       "        ...,\n",
       "        [0.41176471, 0.40784314, 0.38039216],\n",
       "        [0.42745098, 0.44313725, 0.40784314],\n",
       "        [0.37647059, 0.40784314, 0.38039216]],\n",
       "\n",
       "       [[0.33333333, 0.32941176, 0.34117647],\n",
       "        [0.37647059, 0.39607843, 0.41568627],\n",
       "        [0.2627451 , 0.31372549, 0.33333333],\n",
       "        ...,\n",
       "        [0.40392157, 0.40784314, 0.37254902],\n",
       "        [0.38431373, 0.39607843, 0.35294118],\n",
       "        [0.35294118, 0.38039216, 0.34901961]]])"
      ]
     },
     "execution_count": 10,
     "metadata": {},
     "output_type": "execute_result"
    }
   ],
   "source": [
    "Data[1]"
   ]
  },
  {
   "cell_type": "code",
   "execution_count": 11,
   "metadata": {},
   "outputs": [
    {
     "data": {
      "text/plain": [
       "0"
      ]
     },
     "execution_count": 11,
     "metadata": {},
     "output_type": "execute_result"
    }
   ],
   "source": [
    "Labels[1]"
   ]
  },
  {
   "cell_type": "code",
   "execution_count": 12,
   "metadata": {},
   "outputs": [
    {
     "data": {
      "text/plain": [
       "array([ 0,  0,  0, ..., 42, 42, 42])"
      ]
     },
     "execution_count": 12,
     "metadata": {},
     "output_type": "execute_result"
    }
   ],
   "source": [
    "Labels"
   ]
  },
  {
   "cell_type": "code",
   "execution_count": 16,
   "metadata": {},
   "outputs": [
    {
     "name": "stdout",
     "output_type": "stream",
     "text": [
      " Data Shape : (78418, 32, 32, 3)\n",
      " Labels Shape :(78418,)\n"
     ]
    }
   ],
   "source": [
    "print(f\" Data Shape : {Data.shape}\\n Labels Shape :{Labels.shape}\")\n"
   ]
  },
  {
   "cell_type": "markdown",
   "metadata": {},
   "source": [
    "  "
   ]
  },
  {
   "cell_type": "markdown",
   "metadata": {},
   "source": [
    "*******************************************"
   ]
  },
  {
   "cell_type": "markdown",
   "metadata": {},
   "source": [
    "  "
   ]
  },
  {
   "cell_type": "markdown",
   "metadata": {},
   "source": [
    "# Train\n",
    "\n",
    "The 'train_test_split' function from Scikit-Learn is a pivotal tool for partitioning datasets into distinct subsets, serving a crucial role in model development, validation, and assessment within machine learning workflows. In this instance, the 'Data' and 'Labels' are split into 'X_train' and 'Y_train' for training, and 'X_test' and 'Y_test' for testing, allocating 70% of the data for training and 30% for testing. This division ensures a fair representation of the dataset in both training and testing phases, mitigating biases and enhancing the model's generalizability.\n",
    "\n",
    "For instance, let's consider the shapes of the resulting subsets:\n",
    "- 'X_train' holds a portion of the original 'Data' array, used to train the machine learning model. Its shape confirms the 70% allocation for training.\n",
    "- 'X_test' contains the remaining portion of 'Data', constituting the testing dataset. Its shape validates the 30% allocation for testing.\n",
    "- 'Y_train' and 'Y_test' correspondingly hold the labels corresponding to 'X_train' and 'X_test', ensuring alignment between inputs and outputs for model training and evaluation.\n",
    "\n",
    "This split facilitates model training on diverse data while reserving a separate, unseen portion for evaluating its performance. By incorporating a 'random_state' parameter, reproducibility is ensured, allowing consistent outcomes in repeated executions.\n",
    "The 'train_test_split' outcome aids in robust model development, allowing iterative enhancements and unbiased assessment of machine learning models by segregating data for learning and testing.\n",
    "\n",
    "\n",
    "**In simple words!** Imagine you have a big collection of pictures to teach a computer. This function is like dividing these pictures into two parts: one for teaching and one for testing how well it learned. It's like having separate sets of puzzles—one to practice with and another to test how good you've become.\n",
    "\n",
    "Here, 70% of the pictures are used for teaching ('X_train'), and the remaining 30% are kept aside for testing ('X_test'). The labels, which say what each picture is ('Y_train' and 'Y_test'), also get split in the same way as the pictures. This way, the computer can learn from one set and check how well it learned using another set it hasn't seen before. This helps ensure the computer learns properly and can recognize new pictures accurately too!"
   ]
  },
  {
   "cell_type": "code",
   "execution_count": 17,
   "metadata": {},
   "outputs": [
    {
     "name": "stdout",
     "output_type": "stream",
     "text": [
      "X_train shape: (54892, 32, 32, 3)\n",
      "X_test shape: (23526, 32, 32, 3)\n",
      "Y_train shape: (54892,)\n",
      "X_test shape: (23526,)\n"
     ]
    }
   ],
   "source": [
    "from sklearn.model_selection import train_test_split\n",
    "\n",
    "X_train , X_test , Y_train , Y_test = train_test_split(Data , Labels , test_size = 0.30 , random_state = 0)\n",
    "\n",
    "print(f\"X_train shape: {X_train.shape}\")\n",
    "print(f\"X_test shape: {X_test.shape}\")\n",
    "print(f\"Y_train shape: {Y_train.shape}\")\n",
    "print(f\"X_test shape: {Y_test.shape}\")"
   ]
  },
  {
   "cell_type": "markdown",
   "metadata": {},
   "source": [
    "  "
   ]
  },
  {
   "cell_type": "markdown",
   "metadata": {},
   "source": [
    "The below cell utilizes one-hot encoding, an essential preprocessing step in machine learning when dealing with categorical data like class labels. In this context, the 'Y_train' and 'Y_test' labels, representing traffic sign classes, are transformed into binary matrices using Keras' 'to_categorical' function. For instance, if we initially had a label 'Y_train' with values ranging from 0 to 42 (indicating 43 different classes of traffic signs), the one-hot encoding converts these labels into binary vectors. Each vector is of length 43, where a '1' is positioned at the index corresponding to the label value and '0's elsewhere. This conversion enables neural networks to better understand and learn from categorical data, as it aligns with the network's output structure.\n",
    "\n",
    "The 'print' statements confirm the successful transformation by displaying the shapes of 'X_train', 'X_test', 'Y_train', and 'Y_test'. The shapes reveal the number of samples and the dimensions of the binary matrices—essential information for designing neural network architectures.Ultimately, this preprocessing step ensures that the neural network's output layer, particularly in classification tasks, aligns with the number of classes and is formatted appropriately for training. By encoding categorical labels into a binary format, the neural network can effectively learn and predict the correct traffic sign classes during training and testing phases.\n",
    "\n",
    "Absolutely! Imagine you have different types of fruits to teach someone. To make it easier for them to learn, you'd use special codes for each fruit. For example, if '1' means apple, '2' means banana, and so on.\n",
    "Here, we're doing something similar with traffic signs. Instead of saying \"this is sign number 1, this is sign number 2,\" we're converting these numbers into special codes, almost like secret messages for the computer to understand better.\n",
    "\n",
    "For instance, if we had labels from 0 to 42 (for 43 different signs), we convert these labels into special codes. Each code looks like a row of 43 numbers, where only one number is '1' (like a secret signal) and the rest are '0's. This way, the computer knows exactly which sign we're talking about.\n",
    "The 'print' statements just show how many codes (rows) and how many numbers (columns) there are in these secret messages. It's like telling us how many types of signs the computer is learning about and how it's organizing that information, making sure it's all set up for the computer to learn from it properly."
   ]
  },
  {
   "cell_type": "code",
   "execution_count": 18,
   "metadata": {},
   "outputs": [
    {
     "name": "stdout",
     "output_type": "stream",
     "text": [
      "X_train shape: (54892, 32, 32, 3)\n",
      "X_test shape: (23526, 32, 32, 3)\n",
      "Y_train shape: (54892, 43)\n",
      "X_test shape: (23526, 43)\n",
      "\n",
      "X_test Shape :  (32, 32, 3)\n"
     ]
    }
   ],
   "source": [
    "from keras.utils import to_categorical\n",
    "\n",
    "Y_train = to_categorical(Y_train, 43)\n",
    "Y_test = to_categorical(Y_test, 43)\n",
    "\n",
    "print(f\"X_train shape: {X_train.shape}\")\n",
    "print(f\"X_test shape: {X_test.shape}\")\n",
    "print(f\"Y_train shape: {Y_train.shape}\")\n",
    "print(f\"X_test shape: {Y_test.shape}\")\n",
    "\n",
    "print(\"\\nX_test Shape : \",X_train.shape[1:4])"
   ]
  },
  {
   "cell_type": "markdown",
   "metadata": {
    "scrolled": true
   },
   "source": [
    "  "
   ]
  },
  {
   "cell_type": "markdown",
   "metadata": {},
   "source": [
    "    "
   ]
  },
  {
   "cell_type": "markdown",
   "metadata": {},
   "source": [
    "# Model Alteration\n",
    "\n",
    "This code defines a convolutional neural network (CNN) architecture using Keras' Sequential model for traffic sign recognition. CNNs are well-suited for image classification tasks due to their ability to capture spatial hierarchies in data.\n",
    "\n",
    "The model comprises multiple layers:\n",
    "- **Convolutional Layers:** The first layer applies 32 filters of size 5x5 to the input images, extracting features through convolutions, followed by a 2x2 MaxPooling layer to reduce spatial dimensions, aiding in feature extraction.\n",
    "- Subsequent convolutional layers, with 64 filters of size 3x3 each, further extract intricate features, enhancing the network's ability to identify complex patterns in the images. Each is followed by MaxPooling to downsample and retain essential information.\n",
    "\n",
    "The 'Flatten' layer converts the 2D feature maps into a 1D array, preparing the data for fully connected layers.\n",
    "- **Dense Layers:** Two dense layers with 256 and 128 neurons, respectively, leverage 'relu' activation functions to introduce non-linearity, enhancing the model's capacity to learn complex relationships in the data.\n",
    "- 'Dropout' layers with 25% and 20% dropout rates mitigate overfitting by randomly deactivating neurons during training, promoting robustness and generalization.\n",
    "\n",
    "- **Output Layer:** The final dense layer comprises 43 neurons (equal to the number of traffic sign classes) using 'softmax' activation, yielding class probabilities for multi-class classification.\n",
    "\n",
    "This architecture's depth and complexity facilitate hierarchical feature extraction, enabling the model to discern intricate patterns in traffic signs for accurate classification. It's designed to balance model complexity and generalizability, crucial for effective traffic sign recognition in diverse scenarios.\n",
    "\n",
    "Imagine this brain has different layers:\n",
    "\n",
    "* First Layers: It looks at the pictures and tries to spot basic shapes and patterns, like lines or edges.\n",
    "* Next Layers: It digs deeper and finds more complicated details, like specific shapes or unique parts of the signs.\n",
    "* Flatten Layer: It organizes all these details neatly for the brain to understand better.\n",
    "* More Layers: It thinks harder, trying to understand more complex things about the signs.\n",
    "* Final Layer: It makes the final decision, saying which traffic sign it thinks is in the picture.\n",
    "\n",
    "By doing all this, the brain can learn lots of things about traffic signs and figure out which sign is in a picture, just like you can recognize different signs when you're driving. It's built to be smart enough to tell different signs apart but also not too complicated to confuse itself.\n"
   ]
  },
  {
   "cell_type": "code",
   "execution_count": 19,
   "metadata": {},
   "outputs": [
    {
     "name": "stdout",
     "output_type": "stream",
     "text": [
      "WARNING:tensorflow:From C:\\Users\\Raksh\\anaconda3\\Lib\\site-packages\\keras\\src\\backend.py:873: The name tf.get_default_graph is deprecated. Please use tf.compat.v1.get_default_graph instead.\n",
      "\n",
      "WARNING:tensorflow:From C:\\Users\\Raksh\\anaconda3\\Lib\\site-packages\\keras\\src\\layers\\pooling\\max_pooling2d.py:161: The name tf.nn.max_pool is deprecated. Please use tf.nn.max_pool2d instead.\n",
      "\n"
     ]
    }
   ],
   "source": [
    "model = Sequential()\n",
    "\n",
    "model.add(Conv2D(filters=32, kernel_size=(5,5), activation='relu', input_shape=X_train.shape[1:]))\n",
    "model.add(MaxPool2D(pool_size=(2, 2)))\n",
    "\n",
    "\n",
    "model.add(Conv2D(filters=64, kernel_size=(3, 3), activation='relu'))\n",
    "model.add(MaxPool2D(pool_size=(2, 2)))\n",
    "\n",
    "model.add(Conv2D(filters=64, kernel_size=(3, 3), activation='relu'))\n",
    "model.add(MaxPool2D(pool_size=(2, 2)))\n",
    "\n",
    "\n",
    "model.add(Flatten())\n",
    "\n",
    "model.add(Dense(256, activation='relu'))\n",
    "model.add(Dropout(rate=0.25))\n",
    "\n",
    "model.add(Dense(128, activation='relu'))\n",
    "model.add(Dropout(rate=0.20))\n",
    "\n",
    "\n",
    "model.add(Dense(43, activation='softmax'))"
   ]
  },
  {
   "cell_type": "markdown",
   "metadata": {},
   "source": [
    "# Compile and Fit\n",
    "\n",
    "The 'compile' function defines how the model learns by setting up essential components: the loss function measures how 'wrong' the model's predictions are, 'adam' optimizer adjusts the model's 'guesses' to minimize errors, and 'accuracy' assesses correctness during training. The 'TensorBoard' callback creates visual logs for model analysis, recording details like error rates and weight changes, aiding in understanding the model's learning process.\n",
    "\n",
    "The 'fit' function trains the model using the training data ('X_train' and 'Y_train'). It divides the data into smaller 'batches' (32 samples per batch) and runs through the entire dataset ('epochs') 40 times, tweaking itself to improve accuracy. It also checks its progress on unseen data ('validation_split=0.3'), ensuring it's not just memorizing but understanding. The 'history_of_model' keeps track of how the model learns at each step, allowing us to see how well it's improving after each training round. This comprehensive approach ensures the model learns effectively, improving its ability to recognize traffic signs accurately.\n",
    "\n",
    "********************************************\n",
    "\n",
    "First, we set up the way it learns and figures out if it's doing well or not. It's like telling the computer how to know when it's making mistakes and how to fix them.\n",
    "\n",
    "Then comes the actual learning part. It's similar to practicing the puzzle many times. The computer takes small groups of the puzzle pieces (we call them 'batches') and tries to fit them together correctly. It repeats this process 40 times, getting better each time it practices. But it's not just practicing the same puzzle over and over; it also checks if it's getting better at solving new, unseen puzzles. This way, it's not just memorizing the solution but truly understanding how to solve puzzles. The computer keeps a journal ('history_of_model') of how it's improving, like notes on how well it's doing and where it needs to work harder. This way, it gets better at recognizing traffic signs accurately!"
   ]
  },
  {
   "cell_type": "code",
   "execution_count": 20,
   "metadata": {},
   "outputs": [
    {
     "name": "stdout",
     "output_type": "stream",
     "text": [
      "WARNING:tensorflow:From C:\\Users\\Raksh\\anaconda3\\Lib\\site-packages\\keras\\src\\optimizers\\__init__.py:309: The name tf.train.Optimizer is deprecated. Please use tf.compat.v1.train.Optimizer instead.\n",
      "\n"
     ]
    }
   ],
   "source": [
    "#Compilation of the model\n",
    "model.compile(loss='categorical_crossentropy', optimizer='adam', metrics=['accuracy'])\n",
    "\n",
    "tb_callback = tf.keras.callbacks.TensorBoard(log_dir=\"logs\", histogram_freq=1)"
   ]
  },
  {
   "cell_type": "code",
   "execution_count": 21,
   "metadata": {
    "scrolled": true
   },
   "outputs": [
    {
     "name": "stdout",
     "output_type": "stream",
     "text": [
      "Epoch 1/40\n",
      "WARNING:tensorflow:From C:\\Users\\Raksh\\anaconda3\\Lib\\site-packages\\keras\\src\\utils\\tf_utils.py:492: The name tf.ragged.RaggedTensorValue is deprecated. Please use tf.compat.v1.ragged.RaggedTensorValue instead.\n",
      "\n",
      "WARNING:tensorflow:From C:\\Users\\Raksh\\anaconda3\\Lib\\site-packages\\keras\\src\\engine\\base_layer_utils.py:384: The name tf.executing_eagerly_outside_functions is deprecated. Please use tf.compat.v1.executing_eagerly_outside_functions instead.\n",
      "\n",
      "1201/1201 [==============================] - 36s 28ms/step - loss: 1.2847 - accuracy: 0.6225 - val_loss: 0.2148 - val_accuracy: 0.9385\n",
      "Epoch 2/40\n",
      "1201/1201 [==============================] - 38s 32ms/step - loss: 0.1705 - accuracy: 0.9494 - val_loss: 0.0860 - val_accuracy: 0.9775\n",
      "Epoch 3/40\n",
      "1201/1201 [==============================] - 34s 29ms/step - loss: 0.0916 - accuracy: 0.9721 - val_loss: 0.0646 - val_accuracy: 0.9827\n",
      "Epoch 4/40\n",
      "1201/1201 [==============================] - 38s 32ms/step - loss: 0.0628 - accuracy: 0.9806 - val_loss: 0.0483 - val_accuracy: 0.9875\n",
      "Epoch 5/40\n",
      "1201/1201 [==============================] - 36s 30ms/step - loss: 0.0566 - accuracy: 0.9828 - val_loss: 0.0715 - val_accuracy: 0.9810\n",
      "Epoch 6/40\n",
      "1201/1201 [==============================] - 36s 30ms/step - loss: 0.0438 - accuracy: 0.9875 - val_loss: 0.0289 - val_accuracy: 0.9926\n",
      "Epoch 7/40\n",
      "1201/1201 [==============================] - 42s 35ms/step - loss: 0.0423 - accuracy: 0.9867 - val_loss: 0.0351 - val_accuracy: 0.9917\n",
      "Epoch 8/40\n",
      "1201/1201 [==============================] - 39s 32ms/step - loss: 0.0426 - accuracy: 0.9877 - val_loss: 0.0274 - val_accuracy: 0.9929\n",
      "Epoch 9/40\n",
      "1201/1201 [==============================] - 38s 32ms/step - loss: 0.0312 - accuracy: 0.9908 - val_loss: 0.0319 - val_accuracy: 0.9923\n",
      "Epoch 10/40\n",
      "1201/1201 [==============================] - 37s 31ms/step - loss: 0.0298 - accuracy: 0.9910 - val_loss: 0.0283 - val_accuracy: 0.9931\n",
      "Epoch 11/40\n",
      "1201/1201 [==============================] - 37s 31ms/step - loss: 0.0302 - accuracy: 0.9913 - val_loss: 0.0251 - val_accuracy: 0.9931\n",
      "Epoch 12/40\n",
      "1201/1201 [==============================] - 43s 36ms/step - loss: 0.0291 - accuracy: 0.9921 - val_loss: 0.0242 - val_accuracy: 0.9946\n",
      "Epoch 13/40\n",
      "1201/1201 [==============================] - 40s 34ms/step - loss: 0.0280 - accuracy: 0.9917 - val_loss: 0.0386 - val_accuracy: 0.9895\n",
      "Epoch 14/40\n",
      "1201/1201 [==============================] - 36s 30ms/step - loss: 0.0238 - accuracy: 0.9932 - val_loss: 0.0640 - val_accuracy: 0.9902\n",
      "Epoch 15/40\n",
      "1201/1201 [==============================] - 37s 31ms/step - loss: 0.0335 - accuracy: 0.9909 - val_loss: 0.0409 - val_accuracy: 0.9899\n",
      "Epoch 16/40\n",
      "1201/1201 [==============================] - 41s 34ms/step - loss: 0.0265 - accuracy: 0.9933 - val_loss: 0.0339 - val_accuracy: 0.9918\n",
      "Epoch 17/40\n",
      "1201/1201 [==============================] - 40s 33ms/step - loss: 0.0277 - accuracy: 0.9934 - val_loss: 0.0241 - val_accuracy: 0.9941\n",
      "Epoch 18/40\n",
      "1201/1201 [==============================] - 37s 31ms/step - loss: 0.0255 - accuracy: 0.9934 - val_loss: 0.0169 - val_accuracy: 0.9963\n",
      "Epoch 19/40\n",
      "1201/1201 [==============================] - 36s 30ms/step - loss: 0.0280 - accuracy: 0.9937 - val_loss: 0.0196 - val_accuracy: 0.9961\n",
      "Epoch 20/40\n",
      "1201/1201 [==============================] - 38s 32ms/step - loss: 0.0184 - accuracy: 0.9951 - val_loss: 0.0199 - val_accuracy: 0.9953\n",
      "Epoch 21/40\n",
      "1201/1201 [==============================] - 45s 38ms/step - loss: 0.0240 - accuracy: 0.9941 - val_loss: 0.0567 - val_accuracy: 0.9891\n",
      "Epoch 22/40\n",
      "1201/1201 [==============================] - 34s 28ms/step - loss: 0.0212 - accuracy: 0.9943 - val_loss: 0.0413 - val_accuracy: 0.9920\n",
      "Epoch 23/40\n",
      "1201/1201 [==============================] - 33s 28ms/step - loss: 0.0261 - accuracy: 0.9939 - val_loss: 0.0376 - val_accuracy: 0.9932\n",
      "Epoch 24/40\n",
      "1201/1201 [==============================] - 33s 27ms/step - loss: 0.0247 - accuracy: 0.9946 - val_loss: 0.0254 - val_accuracy: 0.9958\n",
      "Epoch 25/40\n",
      "1201/1201 [==============================] - 40s 33ms/step - loss: 0.0251 - accuracy: 0.9941 - val_loss: 0.0571 - val_accuracy: 0.9909\n",
      "Epoch 26/40\n",
      "1201/1201 [==============================] - 40s 33ms/step - loss: 0.0327 - accuracy: 0.9927 - val_loss: 0.0358 - val_accuracy: 0.9925\n",
      "Epoch 27/40\n",
      "1201/1201 [==============================] - 39s 33ms/step - loss: 0.0220 - accuracy: 0.9952 - val_loss: 0.0294 - val_accuracy: 0.9950\n",
      "Epoch 28/40\n",
      "1201/1201 [==============================] - 45s 37ms/step - loss: 0.0239 - accuracy: 0.9944 - val_loss: 0.0300 - val_accuracy: 0.9944\n",
      "Epoch 29/40\n",
      "1201/1201 [==============================] - 47s 39ms/step - loss: 0.0177 - accuracy: 0.9957 - val_loss: 0.0199 - val_accuracy: 0.9965\n",
      "Epoch 30/40\n",
      "1201/1201 [==============================] - 42s 35ms/step - loss: 0.0352 - accuracy: 0.9929 - val_loss: 0.0283 - val_accuracy: 0.9956\n",
      "Epoch 31/40\n",
      "1201/1201 [==============================] - 40s 33ms/step - loss: 0.0185 - accuracy: 0.9959 - val_loss: 0.0324 - val_accuracy: 0.9945\n",
      "Epoch 32/40\n",
      "1201/1201 [==============================] - 42s 35ms/step - loss: 0.0243 - accuracy: 0.9950 - val_loss: 0.0227 - val_accuracy: 0.9962\n",
      "Epoch 33/40\n",
      "1201/1201 [==============================] - 40s 34ms/step - loss: 0.0227 - accuracy: 0.9951 - val_loss: 0.0407 - val_accuracy: 0.9922\n",
      "Epoch 34/40\n",
      "1201/1201 [==============================] - 41s 34ms/step - loss: 0.0214 - accuracy: 0.9950 - val_loss: 0.0335 - val_accuracy: 0.9956\n",
      "Epoch 35/40\n",
      "1201/1201 [==============================] - 40s 33ms/step - loss: 0.0295 - accuracy: 0.9939 - val_loss: 0.0307 - val_accuracy: 0.9961\n",
      "Epoch 36/40\n",
      "1201/1201 [==============================] - 39s 32ms/step - loss: 0.0281 - accuracy: 0.9941 - val_loss: 0.0551 - val_accuracy: 0.9920\n",
      "Epoch 37/40\n",
      "1201/1201 [==============================] - 38s 32ms/step - loss: 0.0230 - accuracy: 0.9953 - val_loss: 0.0236 - val_accuracy: 0.9962\n",
      "Epoch 38/40\n",
      "1201/1201 [==============================] - 40s 33ms/step - loss: 0.0186 - accuracy: 0.9969 - val_loss: 0.0413 - val_accuracy: 0.9936\n",
      "Epoch 39/40\n",
      "1201/1201 [==============================] - 38s 32ms/step - loss: 0.0199 - accuracy: 0.9957 - val_loss: 0.0371 - val_accuracy: 0.9957\n",
      "Epoch 40/40\n",
      "1201/1201 [==============================] - 45s 37ms/step - loss: 0.0286 - accuracy: 0.9945 - val_loss: 0.0832 - val_accuracy: 0.9837\n"
     ]
    }
   ],
   "source": [
    "#Fitting of the model\n",
    "history__of__model = model.fit(X_train, Y_train, batch_size=32, epochs=40, validation_split=0.3, callbacks= [tb_callback])"
   ]
  },
  {
   "cell_type": "code",
   "execution_count": 22,
   "metadata": {},
   "outputs": [
    {
     "name": "stdout",
     "output_type": "stream",
     "text": [
      "Model: \"sequential\"\n",
      "_________________________________________________________________\n",
      " Layer (type)                Output Shape              Param #   \n",
      "=================================================================\n",
      " conv2d (Conv2D)             (None, 28, 28, 32)        2432      \n",
      "                                                                 \n",
      " max_pooling2d (MaxPooling2  (None, 14, 14, 32)        0         \n",
      " D)                                                              \n",
      "                                                                 \n",
      " conv2d_1 (Conv2D)           (None, 12, 12, 64)        18496     \n",
      "                                                                 \n",
      " max_pooling2d_1 (MaxPoolin  (None, 6, 6, 64)          0         \n",
      " g2D)                                                            \n",
      "                                                                 \n",
      " conv2d_2 (Conv2D)           (None, 4, 4, 64)          36928     \n",
      "                                                                 \n",
      " max_pooling2d_2 (MaxPoolin  (None, 2, 2, 64)          0         \n",
      " g2D)                                                            \n",
      "                                                                 \n",
      " flatten (Flatten)           (None, 256)               0         \n",
      "                                                                 \n",
      " dense (Dense)               (None, 256)               65792     \n",
      "                                                                 \n",
      " dropout (Dropout)           (None, 256)               0         \n",
      "                                                                 \n",
      " dense_1 (Dense)             (None, 128)               32896     \n",
      "                                                                 \n",
      " dropout_1 (Dropout)         (None, 128)               0         \n",
      "                                                                 \n",
      " dense_2 (Dense)             (None, 43)                5547      \n",
      "                                                                 \n",
      "=================================================================\n",
      "Total params: 162091 (633.17 KB)\n",
      "Trainable params: 162091 (633.17 KB)\n",
      "Non-trainable params: 0 (0.00 Byte)\n",
      "_________________________________________________________________\n"
     ]
    }
   ],
   "source": [
    "model_path = \"F:\\\\Projects\\\\Traffic_Sign_Recognition\\\\saved_models\\\\model.pkl\"\n",
    "with open(model_path, 'wb') as file:\n",
    "    pickle.dump(model,file)\n",
    "    \n",
    "model.summary()"
   ]
  },
  {
   "cell_type": "markdown",
   "metadata": {},
   "source": [
    "   \n",
    "    \n"
   ]
  },
  {
   "cell_type": "markdown",
   "metadata": {},
   "source": [
    "************************"
   ]
  },
  {
   "cell_type": "markdown",
   "metadata": {},
   "source": [
    "   "
   ]
  },
  {
   "cell_type": "markdown",
   "metadata": {},
   "source": [
    "   #                          Load Existing Model"
   ]
  },
  {
   "cell_type": "code",
   "execution_count": 25,
   "metadata": {},
   "outputs": [
    {
     "name": "stderr",
     "output_type": "stream",
     "text": [
      "WARNING:absl:Skipping variable loading for optimizer 'Adam', because it has 25 variables whereas the saved optimizer has 1 variables. \n"
     ]
    }
   ],
   "source": [
    "# Optional\n",
    "\n",
    "import pickle\n",
    "path = \"F:\\\\Projects\\\\Traffic_Sign_Recognition\\\\Preprocessed_Data_&_Labels_&_SAVED_MODEL\\\\model.pkl\"\n",
    "\n",
    "# Load the model from the file\n",
    "with open(path, 'rb') as file:\n",
    "    model = pickle.load(file)"
   ]
  },
  {
   "cell_type": "code",
   "execution_count": 28,
   "metadata": {},
   "outputs": [
    {
     "name": "stdout",
     "output_type": "stream",
     "text": [
      "Model: \"sequential_1\"\n",
      "_________________________________________________________________\n",
      " Layer (type)                Output Shape              Param #   \n",
      "=================================================================\n",
      " conv2d_3 (Conv2D)           (None, 28, 28, 32)        2432      \n",
      "                                                                 \n",
      " max_pooling2d_3 (MaxPoolin  (None, 14, 14, 32)        0         \n",
      " g2D)                                                            \n",
      "                                                                 \n",
      " conv2d_4 (Conv2D)           (None, 12, 12, 64)        18496     \n",
      "                                                                 \n",
      " max_pooling2d_4 (MaxPoolin  (None, 6, 6, 64)          0         \n",
      " g2D)                                                            \n",
      "                                                                 \n",
      " conv2d_5 (Conv2D)           (None, 4, 4, 64)          36928     \n",
      "                                                                 \n",
      " max_pooling2d_5 (MaxPoolin  (None, 2, 2, 64)          0         \n",
      " g2D)                                                            \n",
      "                                                                 \n",
      " flatten_1 (Flatten)         (None, 256)               0         \n",
      "                                                                 \n",
      " dense_3 (Dense)             (None, 256)               65792     \n",
      "                                                                 \n",
      " dropout_2 (Dropout)         (None, 256)               0         \n",
      "                                                                 \n",
      " dense_4 (Dense)             (None, 128)               32896     \n",
      "                                                                 \n",
      " dropout_3 (Dropout)         (None, 128)               0         \n",
      "                                                                 \n",
      " dense_5 (Dense)             (None, 43)                5547      \n",
      "                                                                 \n",
      "=================================================================\n",
      "Total params: 162091 (633.17 KB)\n",
      "Trainable params: 162091 (633.17 KB)\n",
      "Non-trainable params: 0 (0.00 Byte)\n",
      "_________________________________________________________________\n"
     ]
    }
   ],
   "source": [
    "model.summary()"
   ]
  },
  {
   "cell_type": "code",
   "execution_count": null,
   "metadata": {},
   "outputs": [],
   "source": [
    "loaded_model.summary()\n",
    "model = loaded_model"
   ]
  },
  {
   "cell_type": "code",
   "execution_count": null,
   "metadata": {},
   "outputs": [],
   "source": [
    "model.summary()"
   ]
  },
  {
   "cell_type": "code",
   "execution_count": 29,
   "metadata": {},
   "outputs": [
    {
     "name": "stdout",
     "output_type": "stream",
     "text": [
      "736/736 [==============================] - 7s 9ms/step - loss: 3.7655 - accuracy: 0.0051\n"
     ]
    },
    {
     "data": {
      "text/plain": [
       "[3.765549659729004, 0.005058233626186848]"
      ]
     },
     "execution_count": 29,
     "metadata": {},
     "output_type": "execute_result"
    }
   ],
   "source": [
    "model.evaluate(X_test , Y_test)"
   ]
  },
  {
   "cell_type": "markdown",
   "metadata": {},
   "source": [
    "   "
   ]
  },
  {
   "cell_type": "markdown",
   "metadata": {},
   "source": [
    "***********************************"
   ]
  },
  {
   "cell_type": "markdown",
   "metadata": {},
   "source": [
    "# Graph and Vizualisation\n",
    "\n",
    "\n",
    "This graph displays the model's learning progress over epochs. The red line shows how well the model learns on training data, while the green line indicates its performance on unseen validation data. As epochs increase, we see if the model gets better at recognizing traffic signs. If both lines rise together, the model learns well without overfitting. Any divergence might indicate overfitting or underfitting, helping us adjust the model for better accuracy."
   ]
  },
  {
   "cell_type": "code",
   "execution_count": 30,
   "metadata": {},
   "outputs": [
    {
     "data": {
      "image/png": "[encoded data removed]",
      "text/plain": [
       "<Figure size 1400x700 with 1 Axes>"
      ]
     },
     "metadata": {},
     "output_type": "display_data"
    }
   ],
   "source": [
    "\"PLOTTING ACCURACY GRAPH\"\n",
    "                # length , Height\n",
    "plt.figure(figsize=(14,7)) \n",
    "plt.plot(history__of__model.history['accuracy'],'r-' ,label='ACCURACY_TRAINING' )\n",
    "plt.plot(history__of__model.history['val_accuracy'] , 'g-', label='ACCURACY_VALIDATION')\n",
    "plt.title('ACCURACY vs EPOCHS')\n",
    "plt.xlabel('Epochs')\n",
    "plt.ylabel('Accuracy')\n",
    "plt.legend()\n",
    "plt.show()"
   ]
  },
  {
   "cell_type": "markdown",
   "metadata": {},
   "source": [
    "This graph illustrates how well the model learns and generalizes over epochs. The red line depicts the training loss, indicating how much the model's predictions deviate from the actual values during training. Simultaneously, the green line portrays the validation loss, showing its performance on unseen data. A decrease in both lines indicates improved learning. If the training loss drops while the validation loss increases, it signals overfitting—a situation where the model memorizes rather than comprehends, aiding in fine-tuning the model for better generalization."
   ]
  },
  {
   "cell_type": "code",
   "execution_count": 31,
   "metadata": {},
   "outputs": [
    {
     "data": {
      "image/png": "[encoded data removed]",
      "text/plain": [
       "<Figure size 1400x700 with 1 Axes>"
      ]
     },
     "metadata": {},
     "output_type": "display_data"
    }
   ],
   "source": [
    "# Plotting Loss Graph\n",
    "                # length , Height\n",
    "plt.figure(figsize=(14,7))\n",
    "plt.plot(history__of__model.history['loss'], 'r-' , label='LOSS_TRAINING')\n",
    "plt.plot(history__of__model.history['val_loss'], 'g-' ,label='LOSS_VALIDATION')\n",
    "plt.title('LOSS vs EPHOCS')\n",
    "plt.xlabel('Epochs')\n",
    "plt.ylabel('Loss')\n",
    "plt.legend()\n",
    "plt.show()"
   ]
  },
  {
   "cell_type": "markdown",
   "metadata": {},
   "source": [
    "  "
   ]
  },
  {
   "cell_type": "markdown",
   "metadata": {},
   "source": [
    "**************************"
   ]
  },
  {
   "cell_type": "markdown",
   "metadata": {},
   "source": [
    "# Prediction "
   ]
  },
  {
   "cell_type": "markdown",
   "metadata": {},
   "source": [
    "The code uses the trained model to predict the types of traffic signs in the 'X_test' dataset. For each image in 'X_test', the model estimates the probabilities of it belonging to each of the 43 possible traffic sign classes. \n",
    "\n",
    "The 'np.argmax()' function helps in finding the class with the highest probability predicted by the model for each image. It looks at the list of probabilities and chooses the index (or class) that has the highest likelihood according to the model. This way, 'yyyy_pred' contains the predicted class for each image in the 'X_test' dataset.\n",
    "\n",
    "**For easy understanding** Imagine you have a friend who's really good at guessing what things are in pictures. They look at different pictures of animals and try to guess which animal it is. They might say, \"I think it's a dog,\" \"Maybe it's a cat,\" or \"It looks like a bird.\"\n",
    "\n",
    "Now, the 'np.argmax()' is like your friend trying to pick the most likely animal they think is in each picture. They look at all the animals they know and pick the one they think is most probable for each picture. For example, if they're very sure it's a dog, they'll say, \"It's definitely a dog!\"\n",
    "\n",
    "Similarly, the code makes the computer guess what traffic sign is in each picture by picking the one it thinks is most likely, based on all the signs it knows. This helps the computer make its best guess about each picture in the 'X_test' set."
   ]
  },
  {
   "cell_type": "code",
   "execution_count": 32,
   "metadata": {},
   "outputs": [
    {
     "name": "stdout",
     "output_type": "stream",
     "text": [
      "736/736 [==============================] - 6s 9ms/step\n"
     ]
    }
   ],
   "source": [
    "yyyy___pred = np.argmax(model.predict(X_test), axis=-1)"
   ]
  },
  {
   "cell_type": "code",
   "execution_count": 33,
   "metadata": {
    "scrolled": false
   },
   "outputs": [
    {
     "data": {
      "text/plain": [
       "array([6, 6, 6, ..., 6, 6, 6], dtype=int64)"
      ]
     },
     "execution_count": 33,
     "metadata": {},
     "output_type": "execute_result"
    }
   ],
   "source": [
    "yyyy___pred"
   ]
  },
  {
   "cell_type": "markdown",
   "metadata": {},
   "source": [
    "# Testing & Test Model load (O)\n",
    "\n",
    "This 'model_testing' function aims to prepare the test dataset for the traffic sign recognition model. It starts by reading a CSV file ('Test.csv') containing information about test images, including file paths and corresponding class labels. \n",
    "\n",
    "The function then reads this CSV file using Pandas ('pd.read_csv(testcsv)'), extracting the class labels ('label') and file paths ('imgs') from the CSV columns.\n",
    "\n",
    "Next, it iterates through each image file path in 'imgs', opens the image using the 'Image' module from PIL, and resizes each image to a standard 32x32 pixel size. These processed images are converted to NumPy arrays and normalized ('X_test = X_test / 255.0') to ensure consistency and compatibility with the model.\n",
    "\n",
    "Finally, the function returns two essential components:\n",
    "- 'X_test': A NumPy array containing the preprocessed test images that the model will predict on.\n",
    "- 'label': An array containing the actual class labels corresponding to each test image, which helps evaluate the model's accuracy by comparing its predictions with the true labels."
   ]
  },
  {
   "cell_type": "code",
   "execution_count": null,
   "metadata": {},
   "outputs": [],
   "source": [
    "# TESTING THE MODEL THAT WE HAV BUILT ON THE TEST DATA.\n",
    "\n",
    "def model_testing(testcsv):\n",
    "    y_test = pd.read_csv(testcsv)\n",
    "    label = y_test[\"ClassId\"].values\n",
    "    imgs = y_test[\"Path\"].values\n",
    "    data=[]\n",
    "    for img in imgs:\n",
    "        image = Image.open(img)\n",
    "        image = image.resize((32,32))\n",
    "        data.append(np.array(image))\n",
    "    X_test=np.array(data)\n",
    "    X_test = X_test / 255.0\n",
    "    return X_test,label"
   ]
  },
  {
   "cell_type": "code",
   "execution_count": null,
   "metadata": {},
   "outputs": [],
   "source": [
    "os.chdir(\"F:\\Projects\\Traffic_Sign_Recognition\")\n",
    "X_test, label = model_testing(\"Test.csv\") \n",
    "\n",
    "\n"
   ]
  },
  {
   "cell_type": "code",
   "execution_count": null,
   "metadata": {},
   "outputs": [],
   "source": [
    "# Optional, It's saving X-test and Label\n",
    "\n",
    "X_test_path = \"F:\\\\Projects\\\\Traffic_Sign_Recognition\\\\saved_models\\\\axis\\\\X_test.pkl\"\n",
    "label_path = \"F:\\\\Projects\\\\Traffic_Sign_Recognition\\\\saved_models\\\\axis\\\\label.pkl\"\n",
    "# Load the model from the file\n",
    "\n",
    "with open(X_test_path, 'wb') as file:\n",
    "    pickle.dump(X_test,file)\n",
    "    \n",
    "with open(label_path, 'wb') as file:\n",
    "    pickle.dump(label,file)"
   ]
  },
  {
   "cell_type": "code",
   "execution_count": 34,
   "metadata": {},
   "outputs": [],
   "source": [
    "# Optional, It's loading X-test and Label from pre- saved files\n",
    "\n",
    "import pickle\n",
    "X_test_path = \"F:\\\\Projects\\\\Traffic_Sign_Recognition\\\\saved_models\\\\axis\\\\X_test.pkl\"\n",
    "label_path = \"F:\\\\Projects\\\\Traffic_Sign_Recognition\\\\saved_models\\\\axis\\\\label.pkl\"\n",
    "# Load the model from the file\n",
    "\n",
    "with open(X_test_path, 'rb') as file:\n",
    "    X_test = pickle.load(file)\n",
    "    \n",
    "with open(label_path, 'rb') as file:\n",
    "    label = pickle.load(file)\n",
    "    \n"
   ]
  },
  {
   "cell_type": "markdown",
   "metadata": {},
   "source": [
    "  "
   ]
  },
  {
   "cell_type": "markdown",
   "metadata": {},
   "source": [
    "****************************"
   ]
  },
  {
   "cell_type": "markdown",
   "metadata": {},
   "source": [
    "# Class predication"
   ]
  },
  {
   "cell_type": "markdown",
   "metadata": {},
   "source": [
    "The cell predicts the classes of traffic signs for the test dataset ('X_test') using a trained machine learning model.\n",
    "\n",
    "- 'model.predict(X_test)': Utilizes the trained model to make predictions for each image in the test dataset. It generates a matrix where each row represents an image, and the columns contain probabilities for all possible traffic sign classes.\n",
    "\n",
    "- 'np.argmax()': This function identifies the indices (or classes) with the highest probabilities along each row (image) in the prediction matrix. The 'axis=-1' parameter specifies that this should be done along the last axis, effectively choosing the class with the maximum probability for each image.\n",
    "\n",
    "The result ('Y_pred') is an array containing the predicted classes for each test image based on the model's estimations of the highest-probability traffic sign class for each image in 'X_test'."
   ]
  },
  {
   "cell_type": "code",
   "execution_count": 35,
   "metadata": {},
   "outputs": [
    {
     "name": "stdout",
     "output_type": "stream",
     "text": [
      "395/395 [==============================] - 3s 8ms/step\n"
     ]
    }
   ],
   "source": [
    "Y_pred = np.argmax(model.predict(X_test) , axis = -1)"
   ]
  },
  {
   "cell_type": "code",
   "execution_count": 36,
   "metadata": {},
   "outputs": [
    {
     "data": {
      "text/plain": [
       "array([6, 6, 0, ..., 6, 6, 0], dtype=int64)"
      ]
     },
     "execution_count": 36,
     "metadata": {},
     "output_type": "execute_result"
    }
   ],
   "source": [
    "Y_pred "
   ]
  },
  {
   "cell_type": "markdown",
   "metadata": {},
   "source": [
    "   "
   ]
  },
  {
   "cell_type": "markdown",
   "metadata": {},
   "source": [
    "********************************"
   ]
  },
  {
   "cell_type": "markdown",
   "metadata": {},
   "source": [
    "# Test Accuracy \n",
    "\n",
    "Certainly! These lines of code evaluate how well our model performed in predicting traffic sign classes by comparing its predictions ('Y_pred') with the actual classes ('label').\n",
    "\n",
    "- **Accuracy Score:** It calculates the accuracy of the model's predictions by comparing the predicted classes with the actual classes and determining the percentage of correct predictions out of the total number of predictions.\n",
    "\n",
    "- **Confusion Matrix:** This matrix is a table that showcases the model's performance by comparing predicted classes against the actual classes. It provides insights into the types of errors the model made, such as misclassifications or confusion between specific classes.\n",
    "\n",
    "- **Classification Report:** It presents a comprehensive summary of the model's performance, including precision, recall, and F1-score for each class. Precision indicates how many selected items were relevant, recall indicates how many relevant items were selected, and the F1-score combines both precision and recall into a single metric.\n",
    "\n",
    "Printing these metrics ('Accuracy', 'Confusion Matrix', and 'Classification Report') helps us understand how well our model performed in recognizing different traffic sign classes and where it might need improvement."
   ]
  },
  {
   "cell_type": "code",
   "execution_count": 37,
   "metadata": {
    "scrolled": true
   },
   "outputs": [
    {
     "name": "stdout",
     "output_type": "stream",
     "text": [
      "Accuracy : 0.5146476642913698%\n",
      "Confusion Matrix :\n",
      "[[ 7  0  0 ...  0  0  0]\n",
      " [86  0  0 ...  0  0  0]\n",
      " [67  0  0 ...  0  0  0]\n",
      " ...\n",
      " [ 1  0  0 ...  0  0  0]\n",
      " [45  0  0 ...  0  0  0]\n",
      " [63  0  0 ...  0  0  0]]\n",
      "Classification Report :\n",
      "              precision    recall  f1-score   support\n",
      "\n",
      "           0       0.00      0.12      0.00        60\n",
      "           1       0.00      0.00      0.00       720\n",
      "           2       0.00      0.00      0.00       750\n",
      "           3       0.00      0.00      0.00       450\n",
      "           4       0.00      0.00      0.00       660\n",
      "           5       0.00      0.00      0.00       630\n",
      "           6       0.01      0.38      0.01       150\n",
      "           7       0.00      0.00      0.00       450\n",
      "           8       0.00      0.00      0.00       450\n",
      "           9       0.00      0.00      0.00       480\n",
      "          10       0.00      0.00      0.00       660\n",
      "          11       0.00      0.00      0.00       420\n",
      "          12       0.00      0.00      0.00       690\n",
      "          13       0.00      0.00      0.00       720\n",
      "          14       0.00      0.00      0.00       270\n",
      "          15       0.00      0.00      0.00       210\n",
      "          16       0.00      0.00      0.00       150\n",
      "          17       0.00      0.00      0.00       360\n",
      "          18       0.00      0.00      0.00       390\n",
      "          19       0.00      0.00      0.00        60\n",
      "          20       0.00      0.00      0.00        90\n",
      "          21       0.00      0.00      0.00        90\n",
      "          22       0.00      0.00      0.00       120\n",
      "          23       0.00      0.00      0.00       150\n",
      "          24       0.00      0.01      0.00        90\n",
      "          25       0.00      0.00      0.00       480\n",
      "          26       0.00      0.00      0.00       180\n",
      "          27       0.00      0.00      0.00        60\n",
      "          28       0.00      0.00      0.00       150\n",
      "          29       0.00      0.00      0.00        90\n",
      "          30       0.00      0.00      0.00       150\n",
      "          31       0.00      0.00      0.00       270\n",
      "          32       0.00      0.00      0.00        60\n",
      "          33       0.00      0.00      0.00       210\n",
      "          34       0.00      0.00      0.00       120\n",
      "          35       0.00      0.00      0.00       390\n",
      "          36       0.00      0.00      0.00       120\n",
      "          37       0.00      0.00      0.00        60\n",
      "          38       0.00      0.00      0.00       690\n",
      "          39       0.00      0.00      0.00        90\n",
      "          40       0.00      0.00      0.00        90\n",
      "          41       0.00      0.00      0.00        60\n",
      "          42       0.00      0.00      0.00        90\n",
      "\n",
      "    accuracy                           0.01     12630\n",
      "   macro avg       0.00      0.01      0.00     12630\n",
      "weighted avg       0.00      0.01      0.00     12630\n",
      "\n"
     ]
    },
    {
     "name": "stderr",
     "output_type": "stream",
     "text": [
      "C:\\Users\\Raksh\\anaconda3\\Lib\\site-packages\\sklearn\\metrics\\_classification.py:1344: UndefinedMetricWarning: Precision and F-score are ill-defined and being set to 0.0 in labels with no predicted samples. Use `zero_division` parameter to control this behavior.\n",
      "  _warn_prf(average, modifier, msg_start, len(result))\n",
      "C:\\Users\\Raksh\\anaconda3\\Lib\\site-packages\\sklearn\\metrics\\_classification.py:1344: UndefinedMetricWarning: Precision and F-score are ill-defined and being set to 0.0 in labels with no predicted samples. Use `zero_division` parameter to control this behavior.\n",
      "  _warn_prf(average, modifier, msg_start, len(result))\n",
      "C:\\Users\\Raksh\\anaconda3\\Lib\\site-packages\\sklearn\\metrics\\_classification.py:1344: UndefinedMetricWarning: Precision and F-score are ill-defined and being set to 0.0 in labels with no predicted samples. Use `zero_division` parameter to control this behavior.\n",
      "  _warn_prf(average, modifier, msg_start, len(result))\n"
     ]
    }
   ],
   "source": [
    "from sklearn.metrics import accuracy_score , confusion_matrix , classification_report\n",
    "\n",
    "acc = accuracy_score(label, Y_pred)*100\n",
    "cm = confusion_matrix(label, Y_pred)\n",
    "cr = classification_report(label, Y_pred)\n",
    "\n",
    "print(f\"Accuracy : {acc}%\")\n",
    "print(f\"Confusion Matrix :\\n{cm}\")\n",
    "print(f\"Classification Report :\\n{cr}\")"
   ]
  },
  {
   "cell_type": "markdown",
   "metadata": {},
   "source": [
    "Visual representation of the confusion matrix. Each square in the heatmap represents how often the model confused one traffic sign for another. The numbers inside the squares show these counts. A darker color indicates more frequent confusion between those particular signs. This visual helps us identify which signs the model might struggle to distinguish, aiding in understanding its performance on different traffic sign classes."
   ]
  },
  {
   "cell_type": "code",
   "execution_count": 42,
   "metadata": {},
   "outputs": [
    {
     "data": {
      "image/png": "[encoded data removed]",
      "text/plain": [
       "<Figure size 2000x2000 with 2 Axes>"
      ]
     },
     "metadata": {},
     "output_type": "display_data"
    }
   ],
   "source": [
    "plt.figure(figsize=(20,20))\n",
    "sb.heatmap(cm, annot=True, fmt='d', cmap='RdYlGn_r', annot_kws={\"size\": 12}, xticklabels=range(43), yticklabels=range(43))\n",
    "plt.xlabel('Predicted Label', fontsize=16)\n",
    "plt.ylabel('True Label', fontsize=16)\n",
    "plt.title('Confusion Matrix', fontsize=20)\n",
    "plt.show()\n"
   ]
  },
  {
   "cell_type": "markdown",
   "metadata": {},
   "source": [
    "   "
   ]
  },
  {
   "cell_type": "markdown",
   "metadata": {},
   "source": [
    "************************************************"
   ]
  },
  {
   "cell_type": "markdown",
   "metadata": {},
   "source": [
    "   "
   ]
  },
  {
   "cell_type": "markdown",
   "metadata": {},
   "source": [
    "   "
   ]
  },
  {
   "cell_type": "markdown",
   "metadata": {},
   "source": [
    "\n",
    "# Train model for future use and load another pre-existing model\n",
    "\n",
    "1. **Model Saving:** The model trained on traffic sign data is saved using the 'model.save()' function. It's stored with the filename 'my_model.keras' in the directory specified by 'os.chdir()' (the directory path: \"F:\\\\Projects\\\\Traffic_Sign_Recognition\\\\Preprocessed_Data_&_Labels_&_SAVED_MODEL\").\n",
    "\n",
    "2. **Model Loading:** Another pre-trained model ('R_G_B_model.h5') is loaded into the 'model' variable using 'load_model()' from Keras. This model might have been trained differently or on different data.\n",
    "\n",
    "3. **Classes Dictionary:** The 'classes' dictionary maps numeric labels to their corresponding traffic sign descriptions. Each numeric key (0 to 42) represents a specific traffic sign class, and its corresponding value holds the textual description of that traffic sign.\n",
    "\n",
    "This code segment helps store a trained model for future use and loads another pre-existing model while providing a dictionary to interpret the numeric predictions made by the model into human-readable traffic sign descriptions."
   ]
  },
  {
   "cell_type": "code",
   "execution_count": 44,
   "metadata": {},
   "outputs": [],
   "source": [
    "os.chdir(\"F:\\\\Projects\\\\Traffic_Sign_Recognition\\\\Preprocessed_Data_&_Labels_&_SAVED_MODEL\")\n",
    "model.save('my_model.keras')\n",
    "model = load_model(\"R_G_B_model.h5\")\n",
    "\n",
    "\n",
    "classes = { 0:'Speed limit (20km/h)',\n",
    "            1:'Speed limit (30km/h)', \n",
    "            2:'Speed limit (50km/h)', \n",
    "            3:'Speed limit (60km/h)', \n",
    "            4:'Speed limit (70km/h)', \n",
    "            5:'Speed limit (80km/h)', \n",
    "            6:'End of speed limit (80km/h)', \n",
    "            7:'Speed limit (100km/h)', \n",
    "            8:'Speed limit (120km/h)', \n",
    "            9:'No passing', \n",
    "            10:'No passing veh over 3.5 tons', \n",
    "            11:'Right-of-way at intersection', \n",
    "            12:'Priority road', \n",
    "            13:'Yield', \n",
    "            14:'Stop', \n",
    "            15:'No vehicles', \n",
    "            16:'Veh > 3.5 tons prohibited', \n",
    "            17:'No entry', \n",
    "            18:'General caution', \n",
    "            19:'Dangerous curve left', \n",
    "            20:'Dangerous curve right', \n",
    "            21:'Double curve', \n",
    "            22:'Bumpy road', \n",
    "            23:'Slippery road', \n",
    "            24:'Road narrows on the right', \n",
    "            25:'Road work', \n",
    "            26:'Traffic signals', \n",
    "            27:'Pedestrians', \n",
    "            28:'Children crossing', \n",
    "            29:'Bicycles crossing', \n",
    "            30:'Beware of ice/snow',\n",
    "            31:'Wild animals crossing', \n",
    "            32:'End speed + passing limits', \n",
    "            33:'Turn right ahead', \n",
    "            34:'Turn left ahead', \n",
    "            35:'Ahead only', \n",
    "            36:'Go straight or right', \n",
    "            37:'Go straight or left', \n",
    "            38:'Keep right', \n",
    "            39:'Keep left', \n",
    "            40:'Roundabout mandatory', \n",
    "            41:'End of no passing', \n",
    "            42:'End no passing veh > 3.5 tons' }"
   ]
  },
  {
   "cell_type": "markdown",
   "metadata": {},
   "source": [
    "Function 'testing_image' that performs testing on a single image for traffic sign recognition. Here's what each part of the function does:\n",
    "\n",
    "1. **Changing Directory:** `os.chdir(\"F:\\\\Projects\\\\Traffic_Sign_Recognition\")`: Sets the current working directory to \"F:\\\\Projects\\\\Traffic_Sign_Recognition\".\n",
    "\n",
    "2. **Function Definition:** `def testing_image(img):`: Defines a function named 'testing_image' that takes a single argument 'img', representing the file path of an image.\n",
    "\n",
    "3. **Image Processing:**\n",
    "   - Opens the image using the 'Image' module from PIL: `image = Image.open(img)`.\n",
    "   - Resizes the image to a standard 32x32 pixels: `image = image.resize((32,32))`.\n",
    "   - Converts the image to a NumPy array and appends it to the 'data' list: `data.append(np.array(image))`.\n",
    "   - Converts the 'data' list to a NumPy array and normalizes its values to be between 0 and 1: `X_test = X_test / 255.0`.\n",
    "\n",
    "4. **Prediction:**\n",
    "   - Uses the 'model' (which should be pre-loaded) to predict the class of the test image: `Y_pred = np.argmax(model.predict(X_test), axis=-1)`.\n",
    "   - Returns the original image and the predicted class ('Y_pred').\n",
    "\n",
    "In essence, this function prepares an image for testing by resizing and formatting it appropriately, uses a pre-loaded model to predict the traffic sign class in the image, and returns both the processed image and the predicted class for analysis or display purposes."
   ]
  },
  {
   "cell_type": "code",
   "execution_count": 45,
   "metadata": {},
   "outputs": [],
   "source": [
    "os.chdir(\"F:\\\\Projects\\\\Traffic_Sign_Recognition\")\n",
    "\n",
    "def testing_image(img):\n",
    "    data=[]\n",
    "    image = Image.open(img)\n",
    "    image = image.resize((32,32))\n",
    "    data.append(np.array(image))\n",
    "    X_test=np.array(data)\n",
    "    X_test = X_test / 255.0\n",
    "    Y_pred = np.argmax(model.predict(X_test) , axis=-1)\n",
    "    return image,Y_pred"
   ]
  },
  {
   "cell_type": "markdown",
   "metadata": {},
   "source": [
    "Cell randomly select an image from the given directory, perform testing using the 'testing_image' function previously defined, and then display the predicted traffic sign along with the randomly chosen image. Here's a breakdown:\n",
    "\n",
    "1. **Importing Libraries:** Import necessary libraries, including 'os' for file operations and 'random' for random selection.\n",
    "\n",
    "2. **Directory Path and File Selection:**\n",
    "   - `directory_path = 'F:\\\\Projects\\\\Traffic_Sign_Recognition\\\\Test'`: Specifies the directory path where the test images are located.\n",
    "   - `files = os.listdir(directory_path)`: Retrieves the list of files in the specified directory.\n",
    "   - `png_files = [file for file in files if file.lower().endswith('.png')]`: Filters out only PNG files from the directory.\n",
    "   - `random_file = random.choice(png_files)`: Randomly selects a PNG file from the filtered list.\n",
    "\n",
    "3. **Image Testing:**\n",
    "   - `test_img = os.path.join(directory_path, random_file)`: Forms the complete file path of the randomly selected image.\n",
    "   - `plot, prediction = testing_image(test_img)`: Utilizes the 'testing_image' function to process and predict the traffic sign class for the selected image.\n",
    "\n",
    "4. **Displaying Prediction:**\n",
    "   - `s = [str(i) for i in prediction]`: Converts the predicted class (which is an array) to a list of strings.\n",
    "   - `a = int(\"\".join(s))`: Joins the list of strings into a single string and converts it to an integer.\n",
    "   - `print(\"Predicted traffic sign is: \", classes[a])`: Maps the predicted integer to its corresponding traffic sign description using the 'classes' dictionary.\n",
    "   - `plt.imshow(plot)`: Displays the selected image.\n",
    "   - `plt.show()`: Shows the plotted image along with the predicted traffic sign.\n",
    "\n",
    "Overall, this code randomly selects a test image, predicts the traffic sign class using a pre-trained model, and displays both the image and the predicted traffic sign description for visual verification."
   ]
  },
  {
   "cell_type": "code",
   "execution_count": 46,
   "metadata": {},
   "outputs": [
    {
     "name": "stdout",
     "output_type": "stream",
     "text": [
      "1/1 [==============================] - 0s 226ms/step\n",
      "Predicted traffic sign is:  Speed limit (50km/h)\n"
     ]
    },
    {
     "data": {
      "image/png": "[encoded data removed]",
      "text/plain": [
       "<Figure size 640x480 with 1 Axes>"
      ]
     },
     "metadata": {},
     "output_type": "display_data"
    }
   ],
   "source": [
    "import os\n",
    "import random\n",
    "directory_path = 'F:\\\\Projects\\\\Traffic_Sign_Recognition\\\\Test'\n",
    "\n",
    "files = os.listdir(directory_path)\n",
    "png_files = [file for file in files if file.lower().endswith('.png')]\n",
    "random_file = random.choice(png_files)\n",
    "test_img = os.path.join(directory_path, random_file)\n",
    "#test_img = os.path.join(directory_path, '12250.png')\n",
    "plot,prediction = testing_image(test_img)\n",
    "#prediction = testing_image(test_img)\n",
    "s = [str(i) for i in prediction] \n",
    "a = int(\"\".join(s)) \n",
    "print(\"Predicted traffic sign is: \", classes[a])\n",
    "plt.imshow(plot)\n",
    "plt.show()"
   ]
  }
 ],
 "metadata": {
  "kernelspec": {
   "display_name": "Python 3 (ipykernel)",
   "language": "python",
   "name": "python3"
  },
  "language_info": {
   "codemirror_mode": {
    "name": "ipython",
    "version": 3
   },
   "file_extension": ".py",
   "mimetype": "text/x-python",
   "name": "python",
   "nbconvert_exporter": "python",
   "pygments_lexer": "ipython3",
   "version": "3.11.5"
  }
 },
 "nbformat": 4,
 "nbformat_minor": 4
}
