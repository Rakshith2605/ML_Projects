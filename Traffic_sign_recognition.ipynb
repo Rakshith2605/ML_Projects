{
 "cells": [
  {
   "cell_type": "code",
   "execution_count": 1,
   "metadata": {},
   "outputs": [
    {
     "name": "stdout",
     "output_type": "stream",
     "text": [
      "WARNING:tensorflow:From C:\\Users\\Raksh\\anaconda3\\Lib\\site-packages\\keras\\src\\losses.py:2976: The name tf.losses.sparse_softmax_cross_entropy is deprecated. Please use tf.compat.v1.losses.sparse_softmax_cross_entropy instead.\n",
      "\n"
     ]
    }
   ],
   "source": [
    "# Importing the Libraries, which are the basic requirement for our MODEL_BUILDING_PROCESS\n",
    "import numpy as np \n",
    "import pandas as pd \n",
    "import tensorflow as tf\n",
    "\n",
    "from PIL import Image\n",
    "import os\n",
    "\n",
    "import matplotlib.pyplot as plt\n",
    "%matplotlib inline"
   ]
  },
  {
   "cell_type": "markdown",
   "metadata": {},
   "source": [
    "## Dataset Link: https://www.kaggle.com/meowmeowmeowmeowmeow/gtsrb-german-traffic-sign"
   ]
  },
  {
   "cell_type": "code",
   "execution_count": 2,
   "metadata": {},
   "outputs": [
    {
     "data": {
      "text/plain": [
       "'C:\\\\Users\\\\Raksh\\\\Projects'"
      ]
     },
     "execution_count": 2,
     "metadata": {},
     "output_type": "execute_result"
    }
   ],
   "source": [
    "os.getcwd()"
   ]
  },
  {
   "cell_type": "code",
   "execution_count": 3,
   "metadata": {},
   "outputs": [
    {
     "data": {
      "text/plain": [
       "['.ipynb_checkpoints',\n",
       " 'FDA_Assignment_22_Hemant_Deshmukh.ipynb',\n",
       " 'Preprocessed_Data_&_Labels_&_SAVED_MODEL',\n",
       " 'rgb_classifier_recognition-checkpoint.ipynb',\n",
       " 'rgb_classifier_recognition.ipynb',\n",
       " 'Seizure_level1.ipynb',\n",
       " 'traffic',\n",
       " 'Untitled.ipynb',\n",
       " 'Untitled1.ipynb',\n",
       " 'Untitled2.ipynb',\n",
       " 'Untitled3.ipynb',\n",
       " 'Untitled4.ipynb']"
      ]
     },
     "execution_count": 3,
     "metadata": {},
     "output_type": "execute_result"
    }
   ],
   "source": [
    "os.listdir()"
   ]
  },
  {
   "cell_type": "code",
   "execution_count": 4,
   "metadata": {},
   "outputs": [],
   "source": [
    "current_working_directory = os.getcwd()"
   ]
  },
  {
   "cell_type": "code",
   "execution_count": 5,
   "metadata": {},
   "outputs": [
    {
     "data": {
      "text/plain": [
       "'C:\\\\Users\\\\Raksh\\\\Projects'"
      ]
     },
     "execution_count": 5,
     "metadata": {},
     "output_type": "execute_result"
    }
   ],
   "source": [
    "current_working_directory"
   ]
  },
  {
   "cell_type": "code",
   "execution_count": 6,
   "metadata": {},
   "outputs": [],
   "source": [
    "import glob\n",
    "hidden_folders = glob.glob('.*')\n"
   ]
  },
  {
   "cell_type": "code",
   "execution_count": 7,
   "metadata": {},
   "outputs": [],
   "source": [
    "current_working_directory_items = os.listdir()"
   ]
  },
  {
   "cell_type": "code",
   "execution_count": 8,
   "metadata": {
    "scrolled": false
   },
   "outputs": [
    {
     "data": {
      "text/plain": [
       "['.ipynb_checkpoints',\n",
       " 'FDA_Assignment_22_Hemant_Deshmukh.ipynb',\n",
       " 'Preprocessed_Data_&_Labels_&_SAVED_MODEL',\n",
       " 'rgb_classifier_recognition-checkpoint.ipynb',\n",
       " 'rgb_classifier_recognition.ipynb',\n",
       " 'Seizure_level1.ipynb',\n",
       " 'traffic',\n",
       " 'Untitled.ipynb',\n",
       " 'Untitled1.ipynb',\n",
       " 'Untitled2.ipynb',\n",
       " 'Untitled3.ipynb',\n",
       " 'Untitled4.ipynb']"
      ]
     },
     "execution_count": 8,
     "metadata": {},
     "output_type": "execute_result"
    }
   ],
   "source": [
    "current_working_directory_items"
   ]
  },
  {
   "cell_type": "code",
   "execution_count": 9,
   "metadata": {},
   "outputs": [],
   "source": [
    "number_of_classes = 43"
   ]
  },
  {
   "cell_type": "code",
   "execution_count": 10,
   "metadata": {},
   "outputs": [],
   "source": [
    "Data = []\n",
    "\n",
    "Labels = []"
   ]
  },
  {
   "cell_type": "code",
   "execution_count": 11,
   "metadata": {},
   "outputs": [],
   "source": [
    "# rak\n",
    "\n",
    "import os\n",
    "from PIL import Image\n",
    "import numpy as np\n",
    "\n",
    "# Assuming 'number_of_classes' is defined somewhere\n",
    "\n",
    "Data = []\n",
    "Labels = []\n",
    "\n",
    "for i in range(number_of_classes):\n",
    "    current_working_directory = \"F:\\\\Projects\\\\Traffic_Sign_Recognition\"\n",
    "    path = os.path.join(current_working_directory, 'Train', str(i))\n",
    "    images = os.listdir(path)\n",
    "    for j in images:\n",
    "        try:\n",
    "            image = Image.open(os.path.join(path, j))  # Using os.path.join for path concatenation\n",
    "            image = image.resize((32, 32))\n",
    "            image = np.array(image)\n",
    "            image = image / 255.0\n",
    "            Data.append(image)\n",
    "            Labels.append(i)\n",
    "        except Exception as e:\n",
    "            print(e)\n"
   ]
  },
  {
   "cell_type": "code",
   "execution_count": 12,
   "metadata": {},
   "outputs": [
    {
     "data": {
      "text/plain": [
       "'F:\\\\Projects\\\\Traffic_Sign_Recognition'"
      ]
     },
     "execution_count": 12,
     "metadata": {},
     "output_type": "execute_result"
    }
   ],
   "source": [
    "current_working_directory"
   ]
  },
  {
   "cell_type": "code",
   "execution_count": 13,
   "metadata": {},
   "outputs": [
    {
     "data": {
      "text/plain": [
       "'\\nfor i in range(number_of_classes):\\n    current_working_directory=\"F:\\\\Projects\\\\Traffic_Sign_Recognition\\\\Sign_Recognition\\\\Train\"\\n    path = os.path.join(current_working_directory,\\'Train\\',str(i))\\n    images = os.listdir(path)\\n    for j in images:\\n        try:\\n            image = Image.open(path + \\'\\\\\\'+ j)\\n            image = image.resize((32,32))\\n            image = np.array(image)\\n            image = image / 255.0\\n            Data.append(image)\\n            Labels.append(i)\\n        except Exception as e:\\n            print(e)\\n            \\n'"
      ]
     },
     "execution_count": 13,
     "metadata": {},
     "output_type": "execute_result"
    }
   ],
   "source": [
    "#Preprocessing step: Here we are using RGB data.\n",
    "# It has 3 channels.\n",
    "'''\n",
    "for i in range(number_of_classes):\n",
    "    current_working_directory=\"F:\\\\Projects\\\\Traffic_Sign_Recognition\\\\Sign_Recognition\\Train\"\n",
    "    path = os.path.join(current_working_directory,'Train',str(i))\n",
    "    images = os.listdir(path)\n",
    "    for j in images:\n",
    "        try:\n",
    "            image = Image.open(path + '\\\\'+ j)\n",
    "            image = image.resize((32,32))\n",
    "            image = np.array(image)\n",
    "            image = image / 255.0\n",
    "            Data.append(image)\n",
    "            Labels.append(i)\n",
    "        except Exception as e:\n",
    "            print(e)\n",
    "            \n",
    "'''"
   ]
  },
  {
   "cell_type": "code",
   "execution_count": 14,
   "metadata": {},
   "outputs": [
    {
     "data": {
      "text/plain": [
       "(list, list)"
      ]
     },
     "execution_count": 14,
     "metadata": {},
     "output_type": "execute_result"
    }
   ],
   "source": [
    "type(Data) , type(Labels)"
   ]
  },
  {
   "cell_type": "code",
   "execution_count": 15,
   "metadata": {
    "scrolled": true
   },
   "outputs": [
    {
     "data": {
      "text/plain": [
       "array([[[0.29411765, 0.30588235, 0.31372549],\n",
       "        [0.28627451, 0.29803922, 0.30588235],\n",
       "        [0.32156863, 0.32941176, 0.3254902 ],\n",
       "        ...,\n",
       "        [0.2627451 , 0.29019608, 0.28627451],\n",
       "        [0.25490196, 0.26666667, 0.2627451 ],\n",
       "        [0.25882353, 0.2627451 , 0.25882353]],\n",
       "\n",
       "       [[0.3254902 , 0.32941176, 0.3372549 ],\n",
       "        [0.30980392, 0.31372549, 0.32156863],\n",
       "        [0.33333333, 0.3372549 , 0.3254902 ],\n",
       "        ...,\n",
       "        [0.28627451, 0.30196078, 0.30196078],\n",
       "        [0.29803922, 0.30588235, 0.29411765],\n",
       "        [0.30980392, 0.30980392, 0.30196078]],\n",
       "\n",
       "       [[0.30980392, 0.30980392, 0.31764706],\n",
       "        [0.32941176, 0.32941176, 0.33333333],\n",
       "        [0.3372549 , 0.34117647, 0.34117647],\n",
       "        ...,\n",
       "        [0.27843137, 0.29019608, 0.28235294],\n",
       "        [0.29411765, 0.29019608, 0.2745098 ],\n",
       "        [0.30980392, 0.30588235, 0.29411765]],\n",
       "\n",
       "       ...,\n",
       "\n",
       "       [[0.50196078, 0.50980392, 0.53333333],\n",
       "        [0.47058824, 0.49019608, 0.51372549],\n",
       "        [0.42745098, 0.46666667, 0.48627451],\n",
       "        ...,\n",
       "        [0.38039216, 0.38039216, 0.36078431],\n",
       "        [0.38823529, 0.4       , 0.36862745],\n",
       "        [0.38823529, 0.40784314, 0.39215686]],\n",
       "\n",
       "       [[0.34901961, 0.36470588, 0.38039216],\n",
       "        [0.35686275, 0.38039216, 0.4       ],\n",
       "        [0.29803922, 0.3372549 , 0.35686275],\n",
       "        ...,\n",
       "        [0.41176471, 0.40784314, 0.38039216],\n",
       "        [0.42745098, 0.44313725, 0.40784314],\n",
       "        [0.37647059, 0.40784314, 0.38039216]],\n",
       "\n",
       "       [[0.33333333, 0.32941176, 0.34117647],\n",
       "        [0.37647059, 0.39607843, 0.41568627],\n",
       "        [0.2627451 , 0.31372549, 0.33333333],\n",
       "        ...,\n",
       "        [0.40392157, 0.40784314, 0.37254902],\n",
       "        [0.38431373, 0.39607843, 0.35294118],\n",
       "        [0.35294118, 0.38039216, 0.34901961]]])"
      ]
     },
     "execution_count": 15,
     "metadata": {},
     "output_type": "execute_result"
    }
   ],
   "source": [
    "Data[0]"
   ]
  },
  {
   "cell_type": "code",
   "execution_count": 16,
   "metadata": {},
   "outputs": [],
   "source": [
    "# Conversion of list into Numpy arrays\n",
    "\n",
    "Data = np.array(Data)\n",
    "\n",
    "Labels = np.array(Labels)"
   ]
  },
  {
   "cell_type": "code",
   "execution_count": 17,
   "metadata": {},
   "outputs": [],
   "source": [
    "# os.mkdir(\"Preprocessed_Data_&_Labels_&_SAVED_MODEL\")"
   ]
  },
  {
   "cell_type": "code",
   "execution_count": 18,
   "metadata": {},
   "outputs": [
    {
     "data": {
      "text/plain": [
       "'C:\\\\Users\\\\Raksh\\\\Projects'"
      ]
     },
     "execution_count": 18,
     "metadata": {},
     "output_type": "execute_result"
    }
   ],
   "source": [
    "os.getcwd()"
   ]
  },
  {
   "cell_type": "code",
   "execution_count": 19,
   "metadata": {},
   "outputs": [],
   "source": [
    "os.chdir(\"Preprocessed_Data_&_Labels_&_SAVED_MODEL\")"
   ]
  },
  {
   "cell_type": "code",
   "execution_count": 20,
   "metadata": {},
   "outputs": [
    {
     "data": {
      "text/plain": [
       "'C:\\\\Users\\\\Raksh\\\\Projects\\\\Preprocessed_Data_&_Labels_&_SAVED_MODEL'"
      ]
     },
     "execution_count": 20,
     "metadata": {},
     "output_type": "execute_result"
    }
   ],
   "source": [
    "os.getcwd()"
   ]
  },
  {
   "cell_type": "code",
   "execution_count": 21,
   "metadata": {},
   "outputs": [],
   "source": [
    "# Saving Data & Labels, so that in futuere we won't required to perform preprocessing again.\n",
    "\n",
    "np.save(\"Data\" , Data)\n",
    "\n",
    "np.save(\"Labels\" , Labels)"
   ]
  },
  {
   "cell_type": "code",
   "execution_count": 22,
   "metadata": {},
   "outputs": [
    {
     "data": {
      "text/plain": [
       "'C:\\\\Users\\\\Raksh\\\\Projects\\\\Preprocessed_Data_&_Labels_&_SAVED_MODEL'"
      ]
     },
     "execution_count": 22,
     "metadata": {},
     "output_type": "execute_result"
    }
   ],
   "source": [
    "os.getcwd()"
   ]
  },
  {
   "cell_type": "code",
   "execution_count": 23,
   "metadata": {},
   "outputs": [],
   "source": [
    "os.chdir(current_working_directory)"
   ]
  },
  {
   "cell_type": "code",
   "execution_count": 24,
   "metadata": {},
   "outputs": [
    {
     "data": {
      "text/plain": [
       "'F:\\\\Projects\\\\Traffic_Sign_Recognition'"
      ]
     },
     "execution_count": 24,
     "metadata": {},
     "output_type": "execute_result"
    }
   ],
   "source": [
    "os.getcwd()"
   ]
  },
  {
   "cell_type": "code",
   "execution_count": 25,
   "metadata": {},
   "outputs": [
    {
     "data": {
      "text/plain": [
       "['.ipynb_checkpoints',\n",
       " 'logs',\n",
       " 'Meta',\n",
       " 'Meta.csv',\n",
       " 'Preprocessed_Data_&_Labels_&_SAVED_MODEL',\n",
       " 'rgb_classifier_recognition.ipynb',\n",
       " 'Test',\n",
       " 'Test.csv',\n",
       " 'Train',\n",
       " 'Train.csv']"
      ]
     },
     "execution_count": 25,
     "metadata": {},
     "output_type": "execute_result"
    }
   ],
   "source": [
    "os.listdir()"
   ]
  },
  {
   "cell_type": "code",
   "execution_count": 26,
   "metadata": {},
   "outputs": [],
   "source": [
    "#Since we have stored our preprocessed Data & Label earlier,\n",
    "# Now we are LOADING them."
   ]
  },
  {
   "cell_type": "code",
   "execution_count": 27,
   "metadata": {},
   "outputs": [
    {
     "data": {
      "text/plain": [
       "'F:\\\\Projects\\\\Traffic_Sign_Recognition'"
      ]
     },
     "execution_count": 27,
     "metadata": {},
     "output_type": "execute_result"
    }
   ],
   "source": [
    "os.getcwd()"
   ]
  },
  {
   "cell_type": "code",
   "execution_count": 28,
   "metadata": {},
   "outputs": [],
   "source": [
    "os.chdir(\"Preprocessed_Data_&_Labels_&_SAVED_MODEL\")"
   ]
  },
  {
   "cell_type": "code",
   "execution_count": 29,
   "metadata": {},
   "outputs": [],
   "source": [
    "os.chdir(\"F:\\\\Projects\\\\Traffic_Sign_Recognition\\\\Preprocessed_Data_&_Labels_&_SAVED_MODEL\")"
   ]
  },
  {
   "cell_type": "code",
   "execution_count": 30,
   "metadata": {},
   "outputs": [
    {
     "data": {
      "text/plain": [
       "'F:\\\\Projects\\\\Traffic_Sign_Recognition\\\\Preprocessed_Data_&_Labels_&_SAVED_MODEL'"
      ]
     },
     "execution_count": 30,
     "metadata": {},
     "output_type": "execute_result"
    }
   ],
   "source": [
    "os.getcwd()"
   ]
  },
  {
   "cell_type": "code",
   "execution_count": 31,
   "metadata": {},
   "outputs": [
    {
     "data": {
      "text/plain": [
       "['Data.npy', 'Labels.npy', 'R_G_B_model.h5']"
      ]
     },
     "execution_count": 31,
     "metadata": {},
     "output_type": "execute_result"
    }
   ],
   "source": [
    "os.listdir()"
   ]
  },
  {
   "cell_type": "code",
   "execution_count": 32,
   "metadata": {},
   "outputs": [],
   "source": [
    "#Assigning them in repective variables...\n",
    "\n",
    "Data = np.load('Data.npy')\n",
    "\n",
    "Labels = np.load('Labels.npy')"
   ]
  },
  {
   "cell_type": "code",
   "execution_count": 33,
   "metadata": {},
   "outputs": [
    {
     "data": {
      "text/plain": [
       "array([[[0.29411765, 0.30588235, 0.31372549],\n",
       "        [0.28627451, 0.29803922, 0.30588235],\n",
       "        [0.32156863, 0.32941176, 0.3254902 ],\n",
       "        ...,\n",
       "        [0.2627451 , 0.29019608, 0.28627451],\n",
       "        [0.25490196, 0.26666667, 0.2627451 ],\n",
       "        [0.25882353, 0.2627451 , 0.25882353]],\n",
       "\n",
       "       [[0.3254902 , 0.32941176, 0.3372549 ],\n",
       "        [0.30980392, 0.31372549, 0.32156863],\n",
       "        [0.33333333, 0.3372549 , 0.3254902 ],\n",
       "        ...,\n",
       "        [0.28627451, 0.30196078, 0.30196078],\n",
       "        [0.29803922, 0.30588235, 0.29411765],\n",
       "        [0.30980392, 0.30980392, 0.30196078]],\n",
       "\n",
       "       [[0.30980392, 0.30980392, 0.31764706],\n",
       "        [0.32941176, 0.32941176, 0.33333333],\n",
       "        [0.3372549 , 0.34117647, 0.34117647],\n",
       "        ...,\n",
       "        [0.27843137, 0.29019608, 0.28235294],\n",
       "        [0.29411765, 0.29019608, 0.2745098 ],\n",
       "        [0.30980392, 0.30588235, 0.29411765]],\n",
       "\n",
       "       ...,\n",
       "\n",
       "       [[0.50196078, 0.50980392, 0.53333333],\n",
       "        [0.47058824, 0.49019608, 0.51372549],\n",
       "        [0.42745098, 0.46666667, 0.48627451],\n",
       "        ...,\n",
       "        [0.38039216, 0.38039216, 0.36078431],\n",
       "        [0.38823529, 0.4       , 0.36862745],\n",
       "        [0.38823529, 0.40784314, 0.39215686]],\n",
       "\n",
       "       [[0.34901961, 0.36470588, 0.38039216],\n",
       "        [0.35686275, 0.38039216, 0.4       ],\n",
       "        [0.29803922, 0.3372549 , 0.35686275],\n",
       "        ...,\n",
       "        [0.41176471, 0.40784314, 0.38039216],\n",
       "        [0.42745098, 0.44313725, 0.40784314],\n",
       "        [0.37647059, 0.40784314, 0.38039216]],\n",
       "\n",
       "       [[0.33333333, 0.32941176, 0.34117647],\n",
       "        [0.37647059, 0.39607843, 0.41568627],\n",
       "        [0.2627451 , 0.31372549, 0.33333333],\n",
       "        ...,\n",
       "        [0.40392157, 0.40784314, 0.37254902],\n",
       "        [0.38431373, 0.39607843, 0.35294118],\n",
       "        [0.35294118, 0.38039216, 0.34901961]]])"
      ]
     },
     "execution_count": 33,
     "metadata": {},
     "output_type": "execute_result"
    }
   ],
   "source": [
    "Data[0]"
   ]
  },
  {
   "cell_type": "code",
   "execution_count": 34,
   "metadata": {},
   "outputs": [
    {
     "data": {
      "text/plain": [
       "0"
      ]
     },
     "execution_count": 34,
     "metadata": {},
     "output_type": "execute_result"
    }
   ],
   "source": [
    "Labels[0]"
   ]
  },
  {
   "cell_type": "code",
   "execution_count": 35,
   "metadata": {},
   "outputs": [
    {
     "data": {
      "text/plain": [
       "'F:\\\\Projects\\\\Traffic_Sign_Recognition\\\\Preprocessed_Data_&_Labels_&_SAVED_MODEL'"
      ]
     },
     "execution_count": 35,
     "metadata": {},
     "output_type": "execute_result"
    }
   ],
   "source": [
    "os.getcwd()"
   ]
  },
  {
   "cell_type": "code",
   "execution_count": 36,
   "metadata": {},
   "outputs": [],
   "source": [
    "os.chdir(\"..\")"
   ]
  },
  {
   "cell_type": "code",
   "execution_count": 37,
   "metadata": {},
   "outputs": [
    {
     "data": {
      "text/plain": [
       "'F:\\\\Projects\\\\Traffic_Sign_Recognition'"
      ]
     },
     "execution_count": 37,
     "metadata": {},
     "output_type": "execute_result"
    }
   ],
   "source": [
    "os.getcwd()"
   ]
  },
  {
   "cell_type": "code",
   "execution_count": 38,
   "metadata": {},
   "outputs": [
    {
     "data": {
      "text/plain": [
       "['.ipynb_checkpoints',\n",
       " 'logs',\n",
       " 'Meta',\n",
       " 'Meta.csv',\n",
       " 'Preprocessed_Data_&_Labels_&_SAVED_MODEL',\n",
       " 'rgb_classifier_recognition.ipynb',\n",
       " 'Test',\n",
       " 'Test.csv',\n",
       " 'Train',\n",
       " 'Train.csv']"
      ]
     },
     "execution_count": 38,
     "metadata": {},
     "output_type": "execute_result"
    }
   ],
   "source": [
    "os.listdir()"
   ]
  },
  {
   "cell_type": "code",
   "execution_count": 39,
   "metadata": {},
   "outputs": [
    {
     "data": {
      "text/plain": [
       "array([[[0.29411765, 0.30588235, 0.31372549],\n",
       "        [0.28627451, 0.29803922, 0.30588235],\n",
       "        [0.32156863, 0.32941176, 0.3254902 ],\n",
       "        ...,\n",
       "        [0.2627451 , 0.29019608, 0.28627451],\n",
       "        [0.25490196, 0.26666667, 0.2627451 ],\n",
       "        [0.25882353, 0.2627451 , 0.25882353]],\n",
       "\n",
       "       [[0.3254902 , 0.32941176, 0.3372549 ],\n",
       "        [0.30980392, 0.31372549, 0.32156863],\n",
       "        [0.33333333, 0.3372549 , 0.3254902 ],\n",
       "        ...,\n",
       "        [0.28627451, 0.30196078, 0.30196078],\n",
       "        [0.29803922, 0.30588235, 0.29411765],\n",
       "        [0.30980392, 0.30980392, 0.30196078]],\n",
       "\n",
       "       [[0.30980392, 0.30980392, 0.31764706],\n",
       "        [0.32941176, 0.32941176, 0.33333333],\n",
       "        [0.3372549 , 0.34117647, 0.34117647],\n",
       "        ...,\n",
       "        [0.27843137, 0.29019608, 0.28235294],\n",
       "        [0.29411765, 0.29019608, 0.2745098 ],\n",
       "        [0.30980392, 0.30588235, 0.29411765]],\n",
       "\n",
       "       ...,\n",
       "\n",
       "       [[0.50196078, 0.50980392, 0.53333333],\n",
       "        [0.47058824, 0.49019608, 0.51372549],\n",
       "        [0.42745098, 0.46666667, 0.48627451],\n",
       "        ...,\n",
       "        [0.38039216, 0.38039216, 0.36078431],\n",
       "        [0.38823529, 0.4       , 0.36862745],\n",
       "        [0.38823529, 0.40784314, 0.39215686]],\n",
       "\n",
       "       [[0.34901961, 0.36470588, 0.38039216],\n",
       "        [0.35686275, 0.38039216, 0.4       ],\n",
       "        [0.29803922, 0.3372549 , 0.35686275],\n",
       "        ...,\n",
       "        [0.41176471, 0.40784314, 0.38039216],\n",
       "        [0.42745098, 0.44313725, 0.40784314],\n",
       "        [0.37647059, 0.40784314, 0.38039216]],\n",
       "\n",
       "       [[0.33333333, 0.32941176, 0.34117647],\n",
       "        [0.37647059, 0.39607843, 0.41568627],\n",
       "        [0.2627451 , 0.31372549, 0.33333333],\n",
       "        ...,\n",
       "        [0.40392157, 0.40784314, 0.37254902],\n",
       "        [0.38431373, 0.39607843, 0.35294118],\n",
       "        [0.35294118, 0.38039216, 0.34901961]]])"
      ]
     },
     "execution_count": 39,
     "metadata": {},
     "output_type": "execute_result"
    }
   ],
   "source": [
    "Data[1]"
   ]
  },
  {
   "cell_type": "code",
   "execution_count": 40,
   "metadata": {},
   "outputs": [
    {
     "data": {
      "text/plain": [
       "0"
      ]
     },
     "execution_count": 40,
     "metadata": {},
     "output_type": "execute_result"
    }
   ],
   "source": [
    "Labels[1]"
   ]
  },
  {
   "cell_type": "code",
   "execution_count": 41,
   "metadata": {},
   "outputs": [
    {
     "data": {
      "text/plain": [
       "array([ 0,  0,  0, ..., 42, 42, 42])"
      ]
     },
     "execution_count": 41,
     "metadata": {},
     "output_type": "execute_result"
    }
   ],
   "source": [
    "Labels"
   ]
  },
  {
   "cell_type": "code",
   "execution_count": 42,
   "metadata": {},
   "outputs": [
    {
     "name": "stdout",
     "output_type": "stream",
     "text": [
      "Shape of Data : (78418, 32, 32, 3)\n",
      "Shape of Labels :(78418,)\n"
     ]
    }
   ],
   "source": [
    "print(f\"Shape of Data : {Data.shape}\\nShape of Labels :{Labels.shape}\")"
   ]
  },
  {
   "cell_type": "code",
   "execution_count": 43,
   "metadata": {},
   "outputs": [],
   "source": [
    "# Splitting the dataset into training & testing : 70% & 30 % respectively.\n",
    "\n",
    "from sklearn.model_selection import train_test_split\n",
    "\n",
    "X_train , X_test , Y_train , Y_test = train_test_split(Data , Labels , test_size = 0.30 , random_state = 0)"
   ]
  },
  {
   "cell_type": "code",
   "execution_count": 44,
   "metadata": {},
   "outputs": [
    {
     "name": "stdout",
     "output_type": "stream",
     "text": [
      "X_train shape: (54892, 32, 32, 3)\n",
      "X_test shape: (23526, 32, 32, 3)\n",
      "Y_train shape: (54892,)\n",
      "X_test shape: (23526,)\n"
     ]
    }
   ],
   "source": [
    "print(f\"X_train shape: {X_train.shape}\")\n",
    "print(f\"X_test shape: {X_test.shape}\")\n",
    "print(f\"Y_train shape: {Y_train.shape}\")\n",
    "print(f\"X_test shape: {Y_test.shape}\")"
   ]
  },
  {
   "cell_type": "code",
   "execution_count": 45,
   "metadata": {},
   "outputs": [],
   "source": [
    "# Now we are converting the labels to onehot encoding.\n",
    "\n",
    "from keras.utils import to_categorical\n",
    "\n",
    "Y_train = to_categorical(Y_train, 43)\n",
    "Y_test = to_categorical(Y_test, 43)"
   ]
  },
  {
   "cell_type": "code",
   "execution_count": 46,
   "metadata": {
    "scrolled": true
   },
   "outputs": [
    {
     "name": "stdout",
     "output_type": "stream",
     "text": [
      "X_train shape: (54892, 32, 32, 3)\n",
      "X_test shape: (23526, 32, 32, 3)\n",
      "Y_train shape: (54892, 43)\n",
      "X_test shape: (23526, 43)\n"
     ]
    }
   ],
   "source": [
    "print(f\"X_train shape: {X_train.shape}\")\n",
    "print(f\"X_test shape: {X_test.shape}\")\n",
    "print(f\"Y_train shape: {Y_train.shape}\")\n",
    "print(f\"X_test shape: {Y_test.shape}\")"
   ]
  },
  {
   "cell_type": "code",
   "execution_count": 47,
   "metadata": {},
   "outputs": [
    {
     "data": {
      "text/plain": [
       "(32, 32, 3)"
      ]
     },
     "execution_count": 47,
     "metadata": {},
     "output_type": "execute_result"
    }
   ],
   "source": [
    "X_train.shape[1:4]"
   ]
  },
  {
   "cell_type": "code",
   "execution_count": 48,
   "metadata": {},
   "outputs": [],
   "source": [
    "from keras.models import Sequential, load_model\n",
    "from keras.layers import Conv2D, MaxPool2D, Dense, Flatten, Dropout\n"
   ]
  },
  {
   "cell_type": "code",
   "execution_count": 49,
   "metadata": {},
   "outputs": [
    {
     "name": "stdout",
     "output_type": "stream",
     "text": [
      "WARNING:tensorflow:From C:\\Users\\Raksh\\anaconda3\\Lib\\site-packages\\keras\\src\\backend.py:873: The name tf.get_default_graph is deprecated. Please use tf.compat.v1.get_default_graph instead.\n",
      "\n",
      "WARNING:tensorflow:From C:\\Users\\Raksh\\anaconda3\\Lib\\site-packages\\keras\\src\\layers\\pooling\\max_pooling2d.py:161: The name tf.nn.max_pool is deprecated. Please use tf.nn.max_pool2d instead.\n",
      "\n"
     ]
    }
   ],
   "source": [
    "model = Sequential()\n",
    "\n",
    "model.add(Conv2D(filters=32, kernel_size=(5,5), activation='relu', input_shape=X_train.shape[1:]))\n",
    "model.add(MaxPool2D(pool_size=(2, 2)))\n",
    "\n",
    "\n",
    "model.add(Conv2D(filters=64, kernel_size=(3, 3), activation='relu'))\n",
    "model.add(MaxPool2D(pool_size=(2, 2)))\n",
    "\n",
    "model.add(Conv2D(filters=64, kernel_size=(3, 3), activation='relu'))\n",
    "model.add(MaxPool2D(pool_size=(2, 2)))\n",
    "\n",
    "\n",
    "model.add(Flatten())\n",
    "\n",
    "model.add(Dense(256, activation='relu'))\n",
    "model.add(Dropout(rate=0.25))\n",
    "\n",
    "model.add(Dense(128, activation='relu'))\n",
    "model.add(Dropout(rate=0.20))\n",
    "\n",
    "\n",
    "model.add(Dense(43, activation='softmax'))"
   ]
  },
  {
   "cell_type": "code",
   "execution_count": 50,
   "metadata": {},
   "outputs": [
    {
     "name": "stdout",
     "output_type": "stream",
     "text": [
      "WARNING:tensorflow:From C:\\Users\\Raksh\\anaconda3\\Lib\\site-packages\\keras\\src\\optimizers\\__init__.py:309: The name tf.train.Optimizer is deprecated. Please use tf.compat.v1.train.Optimizer instead.\n",
      "\n"
     ]
    }
   ],
   "source": [
    "#Compilation of the model\n",
    "model.compile(loss='categorical_crossentropy', optimizer='adam', metrics=['accuracy'])\n",
    "\n",
    "tb_callback = tf.keras.callbacks.TensorBoard(log_dir=\"logs\", histogram_freq=1)"
   ]
  },
  {
   "cell_type": "code",
   "execution_count": 51,
   "metadata": {
    "scrolled": true
   },
   "outputs": [
    {
     "name": "stdout",
     "output_type": "stream",
     "text": [
      "Epoch 1/40\n",
      "WARNING:tensorflow:From C:\\Users\\Raksh\\anaconda3\\Lib\\site-packages\\keras\\src\\utils\\tf_utils.py:492: The name tf.ragged.RaggedTensorValue is deprecated. Please use tf.compat.v1.ragged.RaggedTensorValue instead.\n",
      "\n",
      "WARNING:tensorflow:From C:\\Users\\Raksh\\anaconda3\\Lib\\site-packages\\keras\\src\\engine\\base_layer_utils.py:384: The name tf.executing_eagerly_outside_functions is deprecated. Please use tf.compat.v1.executing_eagerly_outside_functions instead.\n",
      "\n",
      "1201/1201 [==============================] - 37s 28ms/step - loss: 1.3922 - accuracy: 0.5892 - val_loss: 0.2185 - val_accuracy: 0.9382\n",
      "Epoch 2/40\n",
      "1201/1201 [==============================] - 33s 27ms/step - loss: 0.1911 - accuracy: 0.9411 - val_loss: 0.0753 - val_accuracy: 0.9800\n",
      "Epoch 3/40\n",
      "1201/1201 [==============================] - 33s 28ms/step - loss: 0.0948 - accuracy: 0.9704 - val_loss: 0.0829 - val_accuracy: 0.9760\n",
      "Epoch 4/40\n",
      "1201/1201 [==============================] - 33s 27ms/step - loss: 0.0709 - accuracy: 0.9789 - val_loss: 0.0498 - val_accuracy: 0.9869\n",
      "Epoch 5/40\n",
      "1201/1201 [==============================] - 34s 28ms/step - loss: 0.0496 - accuracy: 0.9850 - val_loss: 0.0304 - val_accuracy: 0.9911\n",
      "Epoch 6/40\n",
      "1201/1201 [==============================] - 1582s 1s/step - loss: 0.0513 - accuracy: 0.9843 - val_loss: 0.0359 - val_accuracy: 0.9903\n",
      "Epoch 7/40\n",
      "1201/1201 [==============================] - 33s 28ms/step - loss: 0.0352 - accuracy: 0.9896 - val_loss: 0.0287 - val_accuracy: 0.9934\n",
      "Epoch 8/40\n",
      "1201/1201 [==============================] - 31s 26ms/step - loss: 0.0377 - accuracy: 0.9889 - val_loss: 0.0213 - val_accuracy: 0.9945\n",
      "Epoch 9/40\n",
      "1201/1201 [==============================] - 31s 26ms/step - loss: 0.0322 - accuracy: 0.9910 - val_loss: 0.0608 - val_accuracy: 0.9832\n",
      "Epoch 10/40\n",
      "1201/1201 [==============================] - 32s 27ms/step - loss: 0.0381 - accuracy: 0.9893 - val_loss: 0.0324 - val_accuracy: 0.9923\n",
      "Epoch 11/40\n",
      "1201/1201 [==============================] - 33s 27ms/step - loss: 0.0277 - accuracy: 0.9915 - val_loss: 0.0753 - val_accuracy: 0.9831\n",
      "Epoch 12/40\n",
      "1201/1201 [==============================] - 34s 28ms/step - loss: 0.0317 - accuracy: 0.9913 - val_loss: 0.0400 - val_accuracy: 0.9895\n",
      "Epoch 13/40\n",
      "1201/1201 [==============================] - 34s 28ms/step - loss: 0.0283 - accuracy: 0.9926 - val_loss: 0.0245 - val_accuracy: 0.9932\n",
      "Epoch 14/40\n",
      "1201/1201 [==============================] - 35s 29ms/step - loss: 0.0202 - accuracy: 0.9939 - val_loss: 0.0302 - val_accuracy: 0.9931\n",
      "Epoch 15/40\n",
      "1201/1201 [==============================] - 35s 29ms/step - loss: 0.0342 - accuracy: 0.9912 - val_loss: 0.0512 - val_accuracy: 0.9871\n",
      "Epoch 16/40\n",
      "1201/1201 [==============================] - 35s 29ms/step - loss: 0.0181 - accuracy: 0.9948 - val_loss: 0.0249 - val_accuracy: 0.9948\n",
      "Epoch 17/40\n",
      "1201/1201 [==============================] - 33s 27ms/step - loss: 0.0307 - accuracy: 0.9926 - val_loss: 0.0284 - val_accuracy: 0.9940\n",
      "Epoch 18/40\n",
      "1201/1201 [==============================] - 31s 26ms/step - loss: 0.0252 - accuracy: 0.9936 - val_loss: 0.0221 - val_accuracy: 0.9956\n",
      "Epoch 19/40\n",
      "1201/1201 [==============================] - 33s 28ms/step - loss: 0.0293 - accuracy: 0.9919 - val_loss: 0.0264 - val_accuracy: 0.9954\n",
      "Epoch 20/40\n",
      "1201/1201 [==============================] - 39s 33ms/step - loss: 0.0138 - accuracy: 0.9959 - val_loss: 0.0271 - val_accuracy: 0.9960\n",
      "Epoch 21/40\n",
      "1201/1201 [==============================] - 38s 32ms/step - loss: 0.0318 - accuracy: 0.9923 - val_loss: 0.0184 - val_accuracy: 0.9974\n",
      "Epoch 22/40\n",
      "1201/1201 [==============================] - 36s 30ms/step - loss: 0.0191 - accuracy: 0.9948 - val_loss: 0.0219 - val_accuracy: 0.9960\n",
      "Epoch 23/40\n",
      "1201/1201 [==============================] - 37s 31ms/step - loss: 0.0250 - accuracy: 0.9936 - val_loss: 0.0240 - val_accuracy: 0.9957\n",
      "Epoch 24/40\n",
      "1201/1201 [==============================] - 36s 30ms/step - loss: 0.0215 - accuracy: 0.9945 - val_loss: 0.0272 - val_accuracy: 0.9941\n",
      "Epoch 25/40\n",
      "1201/1201 [==============================] - 32s 26ms/step - loss: 0.0250 - accuracy: 0.9938 - val_loss: 0.0420 - val_accuracy: 0.9910\n",
      "Epoch 26/40\n",
      "1201/1201 [==============================] - 30s 25ms/step - loss: 0.0211 - accuracy: 0.9946 - val_loss: 0.0499 - val_accuracy: 0.9898\n",
      "Epoch 27/40\n",
      "1201/1201 [==============================] - 33s 27ms/step - loss: 0.0206 - accuracy: 0.9954 - val_loss: 0.0287 - val_accuracy: 0.9970\n",
      "Epoch 28/40\n",
      "1201/1201 [==============================] - 33s 28ms/step - loss: 0.0215 - accuracy: 0.9950 - val_loss: 0.0251 - val_accuracy: 0.9960\n",
      "Epoch 29/40\n",
      "1201/1201 [==============================] - 286s 238ms/step - loss: 0.0280 - accuracy: 0.9938 - val_loss: 0.0218 - val_accuracy: 0.9966\n",
      "Epoch 30/40\n",
      "1201/1201 [==============================] - 52s 44ms/step - loss: 0.0255 - accuracy: 0.9943 - val_loss: 0.0327 - val_accuracy: 0.9942\n",
      "Epoch 31/40\n",
      "1201/1201 [==============================] - 36s 30ms/step - loss: 0.0119 - accuracy: 0.9970 - val_loss: 0.0283 - val_accuracy: 0.9968\n",
      "Epoch 32/40\n",
      "1201/1201 [==============================] - 34s 29ms/step - loss: 0.0283 - accuracy: 0.9939 - val_loss: 0.0392 - val_accuracy: 0.9920\n",
      "Epoch 33/40\n",
      "1201/1201 [==============================] - 32s 27ms/step - loss: 0.0225 - accuracy: 0.9948 - val_loss: 0.0407 - val_accuracy: 0.9939\n",
      "Epoch 34/40\n",
      "1201/1201 [==============================] - 31s 26ms/step - loss: 0.0225 - accuracy: 0.9952 - val_loss: 0.0570 - val_accuracy: 0.9942\n",
      "Epoch 35/40\n",
      "1201/1201 [==============================] - 31s 26ms/step - loss: 0.0213 - accuracy: 0.9957 - val_loss: 0.0271 - val_accuracy: 0.9960\n",
      "Epoch 36/40\n",
      "1201/1201 [==============================] - 36s 30ms/step - loss: 0.0327 - accuracy: 0.9933 - val_loss: 0.0294 - val_accuracy: 0.9950\n",
      "Epoch 37/40\n",
      "1201/1201 [==============================] - 30s 25ms/step - loss: 0.0198 - accuracy: 0.9956 - val_loss: 0.0235 - val_accuracy: 0.9963\n",
      "Epoch 38/40\n",
      "1201/1201 [==============================] - 34s 28ms/step - loss: 0.0190 - accuracy: 0.9959 - val_loss: 0.0475 - val_accuracy: 0.9917\n",
      "Epoch 39/40\n",
      "1201/1201 [==============================] - 33s 27ms/step - loss: 0.0231 - accuracy: 0.9952 - val_loss: 0.0244 - val_accuracy: 0.9974\n",
      "Epoch 40/40\n",
      "1201/1201 [==============================] - 32s 27ms/step - loss: 0.0260 - accuracy: 0.9953 - val_loss: 0.0257 - val_accuracy: 0.9957\n"
     ]
    }
   ],
   "source": [
    "#Fitting of the model\n",
    "history__of__model = model.fit(X_train, Y_train, batch_size=32, epochs=40, validation_split=0.3, callbacks= [tb_callback])"
   ]
  },
  {
   "cell_type": "code",
   "execution_count": 52,
   "metadata": {},
   "outputs": [
    {
     "name": "stdout",
     "output_type": "stream",
     "text": [
      "Model: \"sequential\"\n",
      "_________________________________________________________________\n",
      " Layer (type)                Output Shape              Param #   \n",
      "=================================================================\n",
      " conv2d (Conv2D)             (None, 28, 28, 32)        2432      \n",
      "                                                                 \n",
      " max_pooling2d (MaxPooling2  (None, 14, 14, 32)        0         \n",
      " D)                                                              \n",
      "                                                                 \n",
      " conv2d_1 (Conv2D)           (None, 12, 12, 64)        18496     \n",
      "                                                                 \n",
      " max_pooling2d_1 (MaxPoolin  (None, 6, 6, 64)          0         \n",
      " g2D)                                                            \n",
      "                                                                 \n",
      " conv2d_2 (Conv2D)           (None, 4, 4, 64)          36928     \n",
      "                                                                 \n",
      " max_pooling2d_2 (MaxPoolin  (None, 2, 2, 64)          0         \n",
      " g2D)                                                            \n",
      "                                                                 \n",
      " flatten (Flatten)           (None, 256)               0         \n",
      "                                                                 \n",
      " dense (Dense)               (None, 256)               65792     \n",
      "                                                                 \n",
      " dropout (Dropout)           (None, 256)               0         \n",
      "                                                                 \n",
      " dense_1 (Dense)             (None, 128)               32896     \n",
      "                                                                 \n",
      " dropout_1 (Dropout)         (None, 128)               0         \n",
      "                                                                 \n",
      " dense_2 (Dense)             (None, 43)                5547      \n",
      "                                                                 \n",
      "=================================================================\n",
      "Total params: 162091 (633.17 KB)\n",
      "Trainable params: 162091 (633.17 KB)\n",
      "Non-trainable params: 0 (0.00 Byte)\n",
      "_________________________________________________________________\n"
     ]
    }
   ],
   "source": [
    "model.summary()"
   ]
  },
  {
   "cell_type": "code",
   "execution_count": 53,
   "metadata": {},
   "outputs": [
    {
     "name": "stdout",
     "output_type": "stream",
     "text": [
      "736/736 [==============================] - 7s 9ms/step - loss: 0.0241 - accuracy: 0.9958\n"
     ]
    },
    {
     "data": {
      "text/plain": [
       "[0.02411983720958233, 0.9957919120788574]"
      ]
     },
     "execution_count": 53,
     "metadata": {},
     "output_type": "execute_result"
    }
   ],
   "source": [
    "model.evaluate(X_test , Y_test)"
   ]
  },
  {
   "cell_type": "code",
   "execution_count": 54,
   "metadata": {},
   "outputs": [
    {
     "data": {
      "image/png": "[encoded data removed]",
      "text/plain": [
       "<Figure size 1400x700 with 1 Axes>"
      ]
     },
     "metadata": {},
     "output_type": "display_data"
    }
   ],
   "source": [
    "\"PLOTTING ACCURACY GRAPH\"\n",
    "                # length , Height\n",
    "plt.figure(figsize=(14,7)) \n",
    "plt.plot(history__of__model.history['accuracy'],'r-' ,label='ACCURACY_TRAINING' )\n",
    "plt.plot(history__of__model.history['val_accuracy'] , 'g-', label='ACCURACY_VALIDATION')\n",
    "plt.title('ACCURACY vs EPOCHS')\n",
    "plt.xlabel('Epochs')\n",
    "plt.ylabel('Accuracy')\n",
    "plt.legend()\n",
    "plt.show()"
   ]
  },
  {
   "cell_type": "code",
   "execution_count": 55,
   "metadata": {},
   "outputs": [
    {
     "data": {
      "image/png": "[encoded data removed]",
      "text/plain": [
       "<Figure size 1400x700 with 1 Axes>"
      ]
     },
     "metadata": {},
     "output_type": "display_data"
    }
   ],
   "source": [
    "# Plotting Loss Graph\n",
    "                # length , Height\n",
    "plt.figure(figsize=(14,7))\n",
    "plt.plot(history__of__model.history['loss'], 'r-' , label='LOSS_TRAINING')\n",
    "plt.plot(history__of__model.history['val_loss'], 'g-' ,label='LOSS_VALIDATION')\n",
    "plt.title('LOSS vs EPHOCS')\n",
    "plt.xlabel('Epochs')\n",
    "plt.ylabel('Loss')\n",
    "plt.legend()\n",
    "plt.show()"
   ]
  },
  {
   "cell_type": "code",
   "execution_count": 56,
   "metadata": {},
   "outputs": [
    {
     "name": "stdout",
     "output_type": "stream",
     "text": [
      "736/736 [==============================] - 5s 7ms/step\n"
     ]
    }
   ],
   "source": [
    "yyyy___pred = np.argmax(model.predict(X_test), axis=-1)"
   ]
  },
  {
   "cell_type": "code",
   "execution_count": 57,
   "metadata": {
    "scrolled": false
   },
   "outputs": [
    {
     "data": {
      "text/plain": [
       "array([ 3, 23, 25, ...,  5,  1,  9], dtype=int64)"
      ]
     },
     "execution_count": 57,
     "metadata": {},
     "output_type": "execute_result"
    }
   ],
   "source": [
    "yyyy___pred"
   ]
  },
  {
   "cell_type": "code",
   "execution_count": 58,
   "metadata": {},
   "outputs": [],
   "source": [
    "# TESTING THE MODEL THAT WE HAV BUILT ON THE TEST DATA.\n",
    "\n",
    "def model_testing(testcsv):\n",
    "    y_test = pd.read_csv(testcsv)\n",
    "    label = y_test[\"ClassId\"].values\n",
    "    imgs = y_test[\"Path\"].values\n",
    "    data=[]\n",
    "    for img in imgs:\n",
    "        image = Image.open(img)\n",
    "        image = image.resize((32,32))\n",
    "        data.append(np.array(image))\n",
    "    X_test=np.array(data)\n",
    "    X_test = X_test / 255.0\n",
    "    return X_test,label"
   ]
  },
  {
   "cell_type": "code",
   "execution_count": 59,
   "metadata": {},
   "outputs": [],
   "source": [
    "X_test, label = model_testing('Test.csv')"
   ]
  },
  {
   "cell_type": "code",
   "execution_count": 60,
   "metadata": {},
   "outputs": [
    {
     "name": "stdout",
     "output_type": "stream",
     "text": [
      "395/395 [==============================] - 4s 9ms/step\n"
     ]
    }
   ],
   "source": [
    "Y_pred = np.argmax(model.predict(X_test) , axis = -1)"
   ]
  },
  {
   "cell_type": "code",
   "execution_count": 61,
   "metadata": {},
   "outputs": [
    {
     "data": {
      "text/plain": [
       "array([16,  1, 38, ...,  3,  7, 10], dtype=int64)"
      ]
     },
     "execution_count": 61,
     "metadata": {},
     "output_type": "execute_result"
    }
   ],
   "source": [
    "Y_pred"
   ]
  },
  {
   "cell_type": "code",
   "execution_count": 62,
   "metadata": {
    "scrolled": true
   },
   "outputs": [],
   "source": [
    "from sklearn.metrics import accuracy_score , confusion_matrix , classification_report\n",
    "\n",
    "acc = accuracy_score(label, Y_pred)*100\n",
    "cm = confusion_matrix(label, Y_pred)\n",
    "cr = classification_report(label, Y_pred)"
   ]
  },
  {
   "cell_type": "code",
   "execution_count": 63,
   "metadata": {},
   "outputs": [
    {
     "name": "stdout",
     "output_type": "stream",
     "text": [
      "Accuracy : 95.3285827395091%\n",
      "Confusion Matrix :\n",
      "[[ 57   2   0 ...   0   0   0]\n",
      " [  2 712   2 ...   0   0   0]\n",
      " [  0   3 726 ...   0   0   0]\n",
      " ...\n",
      " [  0   1   0 ...  81   0   0]\n",
      " [  0   0   0 ...   0  54   0]\n",
      " [  0   0   0 ...  19   1  67]]\n",
      "Classification Report :\n",
      "              precision    recall  f1-score   support\n",
      "\n",
      "           0       0.77      0.95      0.85        60\n",
      "           1       0.99      0.99      0.99       720\n",
      "           2       0.99      0.97      0.98       750\n",
      "           3       0.90      0.98      0.94       450\n",
      "           4       0.99      0.98      0.98       660\n",
      "           5       0.93      0.97      0.95       630\n",
      "           6       0.99      0.83      0.91       150\n",
      "           7       0.97      0.90      0.93       450\n",
      "           8       0.97      0.96      0.97       450\n",
      "           9       0.97      1.00      0.99       480\n",
      "          10       0.99      0.99      0.99       660\n",
      "          11       0.98      0.95      0.97       420\n",
      "          12       0.95      0.99      0.97       690\n",
      "          13       0.99      0.99      0.99       720\n",
      "          14       0.99      1.00      0.99       270\n",
      "          15       0.97      1.00      0.99       210\n",
      "          16       0.97      0.99      0.98       150\n",
      "          17       0.99      0.92      0.95       360\n",
      "          18       0.99      0.87      0.93       390\n",
      "          19       0.91      0.97      0.94        60\n",
      "          20       0.62      0.97      0.75        90\n",
      "          21       0.98      0.62      0.76        90\n",
      "          22       0.97      0.89      0.93       120\n",
      "          23       0.87      0.84      0.85       150\n",
      "          24       0.75      0.84      0.79        90\n",
      "          25       0.92      0.98      0.95       480\n",
      "          26       0.88      0.89      0.89       180\n",
      "          27       0.60      0.50      0.55        60\n",
      "          28       0.91      0.94      0.92       150\n",
      "          29       0.89      0.96      0.92        90\n",
      "          30       0.93      0.55      0.69       150\n",
      "          31       0.99      0.97      0.98       270\n",
      "          32       0.85      1.00      0.92        60\n",
      "          33       0.95      1.00      0.97       210\n",
      "          34       0.92      0.99      0.95       120\n",
      "          35       0.98      0.99      0.98       390\n",
      "          36       0.95      0.97      0.96       120\n",
      "          37       0.92      0.93      0.93        60\n",
      "          38       0.97      0.99      0.98       690\n",
      "          39       0.95      0.92      0.94        90\n",
      "          40       0.70      0.90      0.79        90\n",
      "          41       0.96      0.90      0.93        60\n",
      "          42       0.99      0.74      0.85        90\n",
      "\n",
      "    accuracy                           0.95     12630\n",
      "   macro avg       0.92      0.92      0.92     12630\n",
      "weighted avg       0.96      0.95      0.95     12630\n",
      "\n"
     ]
    }
   ],
   "source": [
    "print(f\"Accuracy : {acc}%\")\n",
    "print(f\"Confusion Matrix :\\n{cm}\")\n",
    "print(f\"Classification Report :\\n{cr}\")"
   ]
  },
  {
   "cell_type": "code",
   "execution_count": 64,
   "metadata": {},
   "outputs": [],
   "source": [
    "import seaborn as sb"
   ]
  },
  {
   "cell_type": "code",
   "execution_count": 65,
   "metadata": {},
   "outputs": [
    {
     "data": {
      "image/png": "[encoded data removed]",
      "text/plain": [
       "<Figure size 2000x2000 with 2 Axes>"
      ]
     },
     "metadata": {},
     "output_type": "display_data"
    }
   ],
   "source": [
    "plt.figure(figsize=(20,20))\n",
    "sb.heatmap(cm , annot=True)\n",
    "plt.show()"
   ]
  },
  {
   "cell_type": "code",
   "execution_count": 66,
   "metadata": {},
   "outputs": [
    {
     "data": {
      "text/plain": [
       "['.ipynb_checkpoints',\n",
       " 'logs',\n",
       " 'Meta',\n",
       " 'Meta.csv',\n",
       " 'Preprocessed_Data_&_Labels_&_SAVED_MODEL',\n",
       " 'rgb_classifier_recognition.ipynb',\n",
       " 'Test',\n",
       " 'Test.csv',\n",
       " 'Train',\n",
       " 'Train.csv']"
      ]
     },
     "execution_count": 66,
     "metadata": {},
     "output_type": "execute_result"
    }
   ],
   "source": [
    "os.listdir()"
   ]
  },
  {
   "cell_type": "code",
   "execution_count": 67,
   "metadata": {},
   "outputs": [],
   "source": [
    "os.chdir(\"Preprocessed_Data_&_Labels_&_SAVED_MODEL\")"
   ]
  },
  {
   "cell_type": "code",
   "execution_count": 68,
   "metadata": {},
   "outputs": [
    {
     "name": "stderr",
     "output_type": "stream",
     "text": [
      "C:\\Users\\Raksh\\anaconda3\\Lib\\site-packages\\keras\\src\\engine\\training.py:3103: UserWarning: You are saving your model as an HDF5 file via `model.save()`. This file format is considered legacy. We recommend using instead the native Keras format, e.g. `model.save('my_model.keras')`.\n",
      "  saving_api.save_model(\n"
     ]
    }
   ],
   "source": [
    "# Now for future use we are saving our BUILT_MODEL.\n",
    "\n",
    "model.save(\"R_G_B_model.h5\")"
   ]
  },
  {
   "cell_type": "code",
   "execution_count": 69,
   "metadata": {},
   "outputs": [],
   "source": [
    "# LOADING THE MODEL"
   ]
  },
  {
   "cell_type": "code",
   "execution_count": 70,
   "metadata": {},
   "outputs": [],
   "source": [
    "model = load_model(\"R_G_B_model.h5\")"
   ]
  },
  {
   "cell_type": "code",
   "execution_count": 71,
   "metadata": {},
   "outputs": [],
   "source": [
    "classes = { 0:'Speed limit (20km/h)',\n",
    "            1:'Speed limit (30km/h)', \n",
    "            2:'Speed limit (50km/h)', \n",
    "            3:'Speed limit (60km/h)', \n",
    "            4:'Speed limit (70km/h)', \n",
    "            5:'Speed limit (80km/h)', \n",
    "            6:'End of speed limit (80km/h)', \n",
    "            7:'Speed limit (100km/h)', \n",
    "            8:'Speed limit (120km/h)', \n",
    "            9:'No passing', \n",
    "            10:'No passing veh over 3.5 tons', \n",
    "            11:'Right-of-way at intersection', \n",
    "            12:'Priority road', \n",
    "            13:'Yield', \n",
    "            14:'Stop', \n",
    "            15:'No vehicles', \n",
    "            16:'Veh > 3.5 tons prohibited', \n",
    "            17:'No entry', \n",
    "            18:'General caution', \n",
    "            19:'Dangerous curve left', \n",
    "            20:'Dangerous curve right', \n",
    "            21:'Double curve', \n",
    "            22:'Bumpy road', \n",
    "            23:'Slippery road', \n",
    "            24:'Road narrows on the right', \n",
    "            25:'Road work', \n",
    "            26:'Traffic signals', \n",
    "            27:'Pedestrians', \n",
    "            28:'Children crossing', \n",
    "            29:'Bicycles crossing', \n",
    "            30:'Beware of ice/snow',\n",
    "            31:'Wild animals crossing', \n",
    "            32:'End speed + passing limits', \n",
    "            33:'Turn right ahead', \n",
    "            34:'Turn left ahead', \n",
    "            35:'Ahead only', \n",
    "            36:'Go straight or right', \n",
    "            37:'Go straight or left', \n",
    "            38:'Keep right', \n",
    "            39:'Keep left', \n",
    "            40:'Roundabout mandatory', \n",
    "            41:'End of no passing', \n",
    "            42:'End no passing veh > 3.5 tons' }"
   ]
  },
  {
   "cell_type": "code",
   "execution_count": 72,
   "metadata": {},
   "outputs": [],
   "source": [
    "os.chdir(\"..\")"
   ]
  },
  {
   "cell_type": "code",
   "execution_count": 73,
   "metadata": {
    "scrolled": true
   },
   "outputs": [
    {
     "data": {
      "text/plain": [
       "'F:\\\\Projects\\\\Traffic_Sign_Recognition'"
      ]
     },
     "execution_count": 73,
     "metadata": {},
     "output_type": "execute_result"
    }
   ],
   "source": [
    "os.getcwd()"
   ]
  },
  {
   "cell_type": "code",
   "execution_count": 74,
   "metadata": {},
   "outputs": [
    {
     "data": {
      "text/plain": [
       "['.ipynb_checkpoints',\n",
       " 'logs',\n",
       " 'Meta',\n",
       " 'Meta.csv',\n",
       " 'Preprocessed_Data_&_Labels_&_SAVED_MODEL',\n",
       " 'rgb_classifier_recognition.ipynb',\n",
       " 'Test',\n",
       " 'Test.csv',\n",
       " 'Train',\n",
       " 'Train.csv']"
      ]
     },
     "execution_count": 74,
     "metadata": {},
     "output_type": "execute_result"
    }
   ],
   "source": [
    "os.listdir()"
   ]
  },
  {
   "cell_type": "code",
   "execution_count": 75,
   "metadata": {},
   "outputs": [],
   "source": [
    "# from PIL import Image\n",
    "# import numpy as np\n",
    "# import matplotlib.pyplot as plt\n",
    "# %matplotlib inline"
   ]
  },
  {
   "cell_type": "code",
   "execution_count": 76,
   "metadata": {},
   "outputs": [],
   "source": [
    "def testing_image(img):\n",
    "    data=[]\n",
    "    image = Image.open(img)\n",
    "    image = image.resize((32,32))\n",
    "    data.append(np.array(image))\n",
    "    X_test=np.array(data)\n",
    "    X_test = X_test / 255.0\n",
    "    Y_pred = np.argmax(model.predict(X_test) , axis=-1)\n",
    "    return image,Y_pred"
   ]
  },
  {
   "cell_type": "code",
   "execution_count": 77,
   "metadata": {},
   "outputs": [
    {
     "data": {
      "text/plain": [
       "'F:\\\\Projects\\\\Traffic_Sign_Recognition'"
      ]
     },
     "execution_count": 77,
     "metadata": {},
     "output_type": "execute_result"
    }
   ],
   "source": [
    "os.getcwd()"
   ]
  },
  {
   "cell_type": "code",
   "execution_count": 78,
   "metadata": {},
   "outputs": [
    {
     "data": {
      "text/plain": [
       "['.ipynb_checkpoints',\n",
       " 'logs',\n",
       " 'Meta',\n",
       " 'Meta.csv',\n",
       " 'Preprocessed_Data_&_Labels_&_SAVED_MODEL',\n",
       " 'rgb_classifier_recognition.ipynb',\n",
       " 'Test',\n",
       " 'Test.csv',\n",
       " 'Train',\n",
       " 'Train.csv']"
      ]
     },
     "execution_count": 78,
     "metadata": {},
     "output_type": "execute_result"
    }
   ],
   "source": [
    "os.listdir()"
   ]
  },
  {
   "cell_type": "code",
   "execution_count": 79,
   "metadata": {},
   "outputs": [],
   "source": [
    "import os\n",
    "import random\n",
    "\n",
    "# Path to the directory containing the files\n",
    "directory_path = 'F:\\\\Projects\\\\Traffic_Sign_Recognition\\\\Test'\n",
    "\n",
    "# List all files in the directory\n",
    "\n"
   ]
  },
  {
   "cell_type": "code",
   "execution_count": 80,
   "metadata": {},
   "outputs": [
    {
     "data": {
      "text/plain": [
       "'\\npng_files = [file for file in files if file.lower().endswith(\\'.png\\')]\\nrandom_file = random.choice(png_files)\\ntest_img = os.path.join(directory_path, random_file)\\n#test_img = os.path.join(directory_path, \\'12250.png\\')\\n\\n#test_img=F:\\\\Projects\\\\Traffic_Sign_Recognition\\\\Test\\\\00092(1).png\"\\n#plot,prediction = testing_image(test_img)\\nprint( testing_image(test_img))'"
      ]
     },
     "execution_count": 80,
     "metadata": {},
     "output_type": "execute_result"
    }
   ],
   "source": [
    "'''\n",
    "png_files = [file for file in files if file.lower().endswith('.png')]\n",
    "random_file = random.choice(png_files)\n",
    "test_img = os.path.join(directory_path, random_file)\n",
    "#test_img = os.path.join(directory_path, '12250.png')\n",
    "\n",
    "#test_img=F:\\\\Projects\\\\Traffic_Sign_Recognition\\\\Test\\\\00092(1).png\"\n",
    "#plot,prediction = testing_image(test_img)\n",
    "print( testing_image(test_img))'''"
   ]
  },
  {
   "cell_type": "code",
   "execution_count": 93,
   "metadata": {},
   "outputs": [
    {
     "name": "stdout",
     "output_type": "stream",
     "text": [
      "1/1 [==============================] - 0s 34ms/step\n",
      "Predicted traffic sign is:  Speed limit (120km/h)\n"
     ]
    },
    {
     "data": {
      "image/png": "[encoded data removed]",
      "text/plain": [
       "<Figure size 640x480 with 1 Axes>"
      ]
     },
     "metadata": {},
     "output_type": "display_data"
    }
   ],
   "source": [
    "files = os.listdir(directory_path)\n",
    "png_files = [file for file in files if file.lower().endswith('.png')]\n",
    "random_file = random.choice(png_files)\n",
    "test_img = os.path.join(directory_path, random_file)\n",
    "#test_img = os.path.join(directory_path, '12250.png')\n",
    "plot,prediction = testing_image(test_img)\n",
    "#prediction = testing_image(test_img)\n",
    "s = [str(i) for i in prediction] \n",
    "a = int(\"\".join(s)) \n",
    "print(\"Predicted traffic sign is: \", classes[a])\n",
    "plt.imshow(plot)\n",
    "plt.show()"
   ]
  }
 ],
 "metadata": {
  "kernelspec": {
   "display_name": "Python 3 (ipykernel)",
   "language": "python",
   "name": "python3"
  },
  "language_info": {
   "codemirror_mode": {
    "name": "ipython",
    "version": 3
   },
   "file_extension": ".py",
   "mimetype": "text/x-python",
   "name": "python",
   "nbconvert_exporter": "python",
   "pygments_lexer": "ipython3",
   "version": "3.11.5"
  }
 },
 "nbformat": 4,
 "nbformat_minor": 4
}
